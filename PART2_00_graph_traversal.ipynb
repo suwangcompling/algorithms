{
 "cells": [
  {
   "cell_type": "markdown",
   "metadata": {},
   "source": [
    "# Graph Traversal\n",
    "\n",
    "* Breath-First Search (BFS)\n",
    "* Depth-First Search (DFS)\n",
    "* Topological Sort"
   ]
  },
  {
   "cell_type": "code",
   "execution_count": 139,
   "metadata": {
    "collapsed": true
   },
   "outputs": [],
   "source": [
    "import random\n",
    "import numpy as np\n",
    "\n",
    "from collections import deque, defaultdict, Counter"
   ]
  },
  {
   "cell_type": "code",
   "execution_count": 5,
   "metadata": {
    "collapsed": true
   },
   "outputs": [],
   "source": [
    "class Node(object):\n",
    "    \n",
    "    def __init__(self, name, color, d, pi):\n",
    "        self.name = name\n",
    "        self.color = color\n",
    "        self.d = d\n",
    "        self.pi = pi\n",
    "    \n",
    "    def __repr__(self):\n",
    "        return 'Node(name=%s, color=%s, distance=%i, parent=%s)' % \\\n",
    "               (self.name,self.color,self.d,self.pi)\n",
    "        \n",
    "class Node_DFS(Node):\n",
    "    # this version allows adding time stamps (parathetical structure for DFS)\n",
    "    \n",
    "    def __init__(self, name, color, d, f, pi):\n",
    "        super(Node_DFS, self).__init__(name,color,d,pi)\n",
    "        self.f = f\n",
    "    \n",
    "    def __repr__(self):\n",
    "        return 'Node(name=%s, color=%s, begin=%i, end=%i, parent=%s)' % \\\n",
    "               (self.name,self.color,self.d,self.f,self.pi) "
   ]
  },
  {
   "cell_type": "markdown",
   "metadata": {},
   "source": [
    "### BFS"
   ]
  },
  {
   "cell_type": "code",
   "execution_count": 53,
   "metadata": {},
   "outputs": [
    {
     "data": {
      "text/plain": [
       "['s', 'r', 'u', 't', 'w', 'v', 'y', 'x']"
      ]
     },
     "execution_count": 53,
     "metadata": {},
     "output_type": "execute_result"
    }
   ],
   "source": [
    "#  r--s  t--u\n",
    "#  |  | /| /|\n",
    "#  v  w--x--y\n",
    "\n",
    "adj_list = {'r': ['s','v'], 's': ['r','w'], 't': ['w','x','u'], 'u': ['t','x','y'],\n",
    "            'v': ['r'], 'w': ['s','t','x'], 'x': ['w','t','u','y'], 'y': ['x','u']}\n",
    "adj_list.keys()"
   ]
  },
  {
   "cell_type": "code",
   "execution_count": 59,
   "metadata": {
    "collapsed": true
   },
   "outputs": [],
   "source": [
    "# Explore all nodes\n",
    "\n",
    "def BFS(adj_list, root, verbose=False):\n",
    "    G = {}\n",
    "    for u in filter(lambda x:x!=root, adj_list.keys()):\n",
    "        G[u] = Node(u,'WHITE',0,None)\n",
    "    G[root] = Node(root,'GRAY',0,None)\n",
    "    Q = deque()\n",
    "    Q.append(root)\n",
    "    count = 0\n",
    "    while len(Q)>0:\n",
    "        if verbose:\n",
    "            print 'At %dth: %s | Q: %s' % (count, u, Q)\n",
    "        u = Q.popleft()\n",
    "        count += 1\n",
    "        for v in adj_list[u]:\n",
    "            if G[v].color == 'WHITE':\n",
    "                G[v].color = 'GRAY'\n",
    "                G[v].d = G[u].d + 1\n",
    "                G[v].pi = u\n",
    "                Q.append(v)\n",
    "        G[u].color = 'BLACK'\n",
    "    return G"
   ]
  },
  {
   "cell_type": "code",
   "execution_count": 60,
   "metadata": {},
   "outputs": [
    {
     "name": "stdout",
     "output_type": "stream",
     "text": [
      "At 0th: x | Q: deque(['s'])\n",
      "At 1th: s | Q: deque(['r', 'w'])\n",
      "At 2th: r | Q: deque(['w', 'v'])\n",
      "At 3th: w | Q: deque(['v', 't', 'x'])\n",
      "At 4th: v | Q: deque(['t', 'x'])\n",
      "At 5th: t | Q: deque(['x', 'u'])\n",
      "At 6th: x | Q: deque(['u', 'y'])\n",
      "At 7th: u | Q: deque(['y'])\n"
     ]
    },
    {
     "data": {
      "text/plain": [
       "{'r': Node(name=r, color=BLACK, distance=1, parent=s),\n",
       " 's': Node(name=s, color=BLACK, distance=0, parent=None),\n",
       " 't': Node(name=t, color=BLACK, distance=2, parent=w),\n",
       " 'u': Node(name=u, color=BLACK, distance=3, parent=t),\n",
       " 'v': Node(name=v, color=BLACK, distance=2, parent=r),\n",
       " 'w': Node(name=w, color=BLACK, distance=1, parent=s),\n",
       " 'x': Node(name=x, color=BLACK, distance=2, parent=w),\n",
       " 'y': Node(name=y, color=BLACK, distance=3, parent=x)}"
      ]
     },
     "execution_count": 60,
     "metadata": {},
     "output_type": "execute_result"
    }
   ],
   "source": [
    "BFS(adj_list, 's', verbose=1)"
   ]
  },
  {
   "cell_type": "code",
   "execution_count": 63,
   "metadata": {
    "collapsed": true
   },
   "outputs": [],
   "source": [
    "# shortest path\n",
    "\n",
    "def shortest_path(adj_list, u, v):\n",
    "    G = BFS(adj_list, u)\n",
    "    print 'The shortest path from %s to %s is %d' % \\\n",
    "          (u, v, G[v].d)"
   ]
  },
  {
   "cell_type": "code",
   "execution_count": 64,
   "metadata": {},
   "outputs": [
    {
     "name": "stdout",
     "output_type": "stream",
     "text": [
      "The shortest path from r to t is 3\n"
     ]
    }
   ],
   "source": [
    "shortest_path(adj_list, 'r', 't')"
   ]
  },
  {
   "cell_type": "code",
   "execution_count": 81,
   "metadata": {
    "collapsed": true
   },
   "outputs": [],
   "source": [
    "# connectivity\n",
    "\n",
    "#  1-3             6\n",
    "#  \\/             /\\\n",
    "#  5      2-4    8-10\n",
    "#  /\\\n",
    "# 7-9\n",
    "\n",
    "disconnected_adj_list = {'1':['3','5'],'2':['4'],'3':['1','5'],'4':['2'],\n",
    "                         '5':['1','3','7','9'],'6':['8','10'],'7':['5','9'],\n",
    "                         '8':['6','10'],'9':['5','7'],'10':['6','8']}\n",
    "\n",
    "def get_explored(G):\n",
    "    return [name for name,node in G.iteritems() if node.color=='BLACK']\n",
    "\n",
    "def connected_groups(adj_list, verbose=False):\n",
    "    explored, groups = [], []\n",
    "    for v in adj_list.iterkeys():\n",
    "        if v not in explored:\n",
    "            cur_explored = get_explored(BFS(adj_list, v))\n",
    "            groups.append(cur_explored)\n",
    "            explored.extend(cur_explored)\n",
    "            if verbose:\n",
    "                print 'Explored: %s | Got group: %s' % \\\n",
    "                      (v, str(cur_explored))\n",
    "    assert all(v in adj_list for v in explored)\n",
    "    return groups"
   ]
  },
  {
   "cell_type": "code",
   "execution_count": 82,
   "metadata": {},
   "outputs": [
    {
     "name": "stdout",
     "output_type": "stream",
     "text": [
      "Explored: 1 | Got group: ['1', '3', '5', '7', '9']\n",
      "Explored: 10 | Got group: ['10', '6', '8']\n",
      "Explored: 2 | Got group: ['2', '4']\n"
     ]
    },
    {
     "data": {
      "text/plain": [
       "[['1', '3', '5', '7', '9'], ['10', '6', '8'], ['2', '4']]"
      ]
     },
     "execution_count": 82,
     "metadata": {},
     "output_type": "execute_result"
    }
   ],
   "source": [
    "connected_groups(disconnected_adj_list, verbose=1)"
   ]
  },
  {
   "cell_type": "markdown",
   "metadata": {},
   "source": [
    "### DFS"
   ]
  },
  {
   "cell_type": "code",
   "execution_count": 83,
   "metadata": {},
   "outputs": [
    {
     "data": {
      "text/plain": [
       "['u', 'w', 'v', 'y', 'x', 'z']"
      ]
     },
     "execution_count": 83,
     "metadata": {},
     "output_type": "execute_result"
    }
   ],
   "source": [
    "# u-*v  w\n",
    "# |/*| /|\n",
    "# *  ** *\n",
    "# x*-y  z>*\n",
    "\n",
    "adj_list = {'u': ['x','v'], 'v': ['y'], 'w': ['y','z'], 'x': ['v'], \n",
    "            'y': ['x'], 'z': ['z']}\n",
    "adj_list.keys()"
   ]
  },
  {
   "cell_type": "markdown",
   "metadata": {},
   "source": [
    "##### VERSION 1: RECURSION-BASED"
   ]
  },
  {
   "cell_type": "code",
   "execution_count": 100,
   "metadata": {
    "collapsed": true
   },
   "outputs": [],
   "source": [
    "tm = 0 # global time, reset before each run\n",
    "\n",
    "def DFS_visit(adj_list, G, u):\n",
    "    global tm\n",
    "    tm += 1\n",
    "    G[u].d = tm\n",
    "    G[u].color = 'GRAY'\n",
    "    for v in adj_list[u]:\n",
    "        if G[v].color=='WHITE':\n",
    "            G[v].pi = u\n",
    "            DFS_visit(adj_list,G,v)\n",
    "    G[u].color = 'BLACK'\n",
    "    tm += 1\n",
    "    G[u].f = tm\n",
    "\n",
    "def DFS(adj_list):\n",
    "    G = {}\n",
    "    for u in adj_list.keys():\n",
    "        G[u] = Node_DFS(u,'WHITE',0,0,None)\n",
    "    global tm\n",
    "    tm = 0\n",
    "    for u in adj_list.keys():\n",
    "        if G[u].color=='WHITE':\n",
    "            DFS_visit(adj_list, G,u)\n",
    "    return G"
   ]
  },
  {
   "cell_type": "code",
   "execution_count": 101,
   "metadata": {
    "scrolled": true
   },
   "outputs": [
    {
     "data": {
      "text/plain": [
       "{'u': Node(name=u, color=BLACK, begin=1, end=8, parent=None),\n",
       " 'v': Node(name=v, color=BLACK, begin=3, end=6, parent=x),\n",
       " 'w': Node(name=w, color=BLACK, begin=9, end=12, parent=None),\n",
       " 'x': Node(name=x, color=BLACK, begin=2, end=7, parent=u),\n",
       " 'y': Node(name=y, color=BLACK, begin=4, end=5, parent=v),\n",
       " 'z': Node(name=z, color=BLACK, begin=10, end=11, parent=w)}"
      ]
     },
     "execution_count": 101,
     "metadata": {},
     "output_type": "execute_result"
    }
   ],
   "source": [
    "DFS(adj_list)"
   ]
  },
  {
   "cell_type": "markdown",
   "metadata": {},
   "source": [
    "##### VERSION 2: STACK"
   ]
  },
  {
   "cell_type": "code",
   "execution_count": 105,
   "metadata": {},
   "outputs": [
    {
     "data": {
      "text/plain": [
       "['a', 'c', 'b', 'e', 'd', 's']"
      ]
     },
     "execution_count": 105,
     "metadata": {},
     "output_type": "execute_result"
    }
   ],
   "source": [
    "#   a-c-e\n",
    "#  /| |/\n",
    "# s-b-d\n",
    "\n",
    "adj_list = {'s': ['a','b'], 'a': ['s','b','c'], 'c': ['a','d','e'],\n",
    "            'e': ['c','d'], 'd': ['c','e','b'], 'b': ['s','a','d']}\n",
    "adj_list.keys()"
   ]
  },
  {
   "cell_type": "code",
   "execution_count": 131,
   "metadata": {
    "collapsed": true
   },
   "outputs": [],
   "source": [
    "def not_visited(G, v_list):\n",
    "    return [v for v in v_list if G[v].color=='WHITE']\n",
    "\n",
    "def DSF_stack(adj_list, root, verbose=False):\n",
    "    stack = list()\n",
    "    G = {}\n",
    "    for u in adj_list.keys():\n",
    "        G[u] = Node(u,'WHITE',0,None)\n",
    "    stack.append(root)\n",
    "    G[root].color = 'BLACK'\n",
    "    prev = root\n",
    "    while len(stack)>0:\n",
    "        u = stack[-1]\n",
    "        v_list = adj_list[u]\n",
    "        to_visit = not_visited(G, v_list)\n",
    "        if len(to_visit)==0: \n",
    "            stack.pop()\n",
    "            continue\n",
    "        v = to_visit[0]\n",
    "        if verbose:\n",
    "            print 'visiting:', v\n",
    "        G[v].color = 'BLACK'\n",
    "        G[v].pi = prev\n",
    "        stack.append(v)\n",
    "        prev = v\n",
    "    return G"
   ]
  },
  {
   "cell_type": "code",
   "execution_count": 130,
   "metadata": {
    "scrolled": true
   },
   "outputs": [
    {
     "name": "stdout",
     "output_type": "stream",
     "text": [
      "visiting: a\n",
      "visiting: b\n",
      "visiting: d\n",
      "visiting: c\n",
      "visiting: e\n"
     ]
    },
    {
     "data": {
      "text/plain": [
       "{'a': Node(name=a, color=BLACK, distance=0, parent=s),\n",
       " 'b': Node(name=b, color=BLACK, distance=0, parent=a),\n",
       " 'c': Node(name=c, color=BLACK, distance=0, parent=d),\n",
       " 'd': Node(name=d, color=BLACK, distance=0, parent=b),\n",
       " 'e': Node(name=e, color=BLACK, distance=0, parent=c),\n",
       " 's': Node(name=s, color=BLACK, distance=0, parent=None)}"
      ]
     },
     "execution_count": 130,
     "metadata": {},
     "output_type": "execute_result"
    }
   ],
   "source": [
    "DSF_stack(adj_list, 's', verbose=1)"
   ]
  },
  {
   "cell_type": "markdown",
   "metadata": {},
   "source": [
    "### Topological Sort\n",
    "\n",
    "* DEF: a _topological sort_ of a dag $G=(V,E)$ is a linear ordering of all its vertices such that if $G$ contains an edge $(u,v)$, then $u$ appears before $v$ in the ordering. If the graph contains a cycle, then no linear ordering is possible. (CLRS, p612)"
   ]
  },
  {
   "cell_type": "code",
   "execution_count": 152,
   "metadata": {
    "scrolled": true
   },
   "outputs": [
    {
     "data": {
      "text/plain": [
       "['jacket',\n",
       " 'shoes',\n",
       " 'tie',\n",
       " 'undershorts',\n",
       " 'shirt',\n",
       " 'belt',\n",
       " 'watch',\n",
       " 'socks',\n",
       " 'pants']"
      ]
     },
     "execution_count": 152,
     "metadata": {},
     "output_type": "execute_result"
    }
   ],
   "source": [
    "adj_list = {'undershorts':['pants','shoes'], 'socks':['shoes'],\n",
    "            'watch':[], 'pants':['shoes','belt'], 'shoes':[],\n",
    "            'shirt':['belt','tie'], 'belt':['jacket'], 'tie':['jacket'], 'jacket':[]}\n",
    "adj_list.keys()"
   ]
  },
  {
   "cell_type": "markdown",
   "metadata": {},
   "source": [
    "##### VERSION 1: TIME STAMPS"
   ]
  },
  {
   "cell_type": "code",
   "execution_count": 153,
   "metadata": {
    "collapsed": true
   },
   "outputs": [],
   "source": [
    "tm = 0 # global time, reset before each run\n",
    "ordering = []\n",
    "\n",
    "def DFS_visit_top(adj_list, G, u, verbose=False):\n",
    "    global tm, ordering\n",
    "    tm += 1\n",
    "    G[u].d = tm\n",
    "    G[u].color = 'GRAY'\n",
    "    for v in adj_list[u]:\n",
    "        if G[v].color=='WHITE':\n",
    "            G[v].pi = u\n",
    "            DFS_visit_top(adj_list,G,v,verbose)\n",
    "    G[u].color = 'BLACK'\n",
    "    tm += 1\n",
    "    G[u].f = tm\n",
    "    ordering.insert(0, (u,str(G[u].d)+'/'+str(G[u].f)))\n",
    "    if verbose:\n",
    "        print 'Current ordering:', ordering\n",
    "\n",
    "def DFS(adj_list, verbose=False):\n",
    "    G = {}\n",
    "    for u in adj_list.keys():\n",
    "        G[u] = Node_DFS(u,'WHITE',0,0,None)\n",
    "    global tm\n",
    "    tm = 0\n",
    "    for u in adj_list.keys():\n",
    "        if G[u].color=='WHITE':\n",
    "            DFS_visit_top(adj_list,G,u,verbose)\n",
    "    return G"
   ]
  },
  {
   "cell_type": "code",
   "execution_count": 154,
   "metadata": {},
   "outputs": [
    {
     "name": "stdout",
     "output_type": "stream",
     "text": [
      "Current ordering: [('jacket', '1/2')]\n",
      "Current ordering: [('shoes', '3/4'), ('jacket', '1/2')]\n",
      "Current ordering: [('tie', '5/6'), ('shoes', '3/4'), ('jacket', '1/2')]\n",
      "Current ordering: [('belt', '9/10'), ('tie', '5/6'), ('shoes', '3/4'), ('jacket', '1/2')]\n",
      "Current ordering: [('pants', '8/11'), ('belt', '9/10'), ('tie', '5/6'), ('shoes', '3/4'), ('jacket', '1/2')]\n",
      "Current ordering: [('undershorts', '7/12'), ('pants', '8/11'), ('belt', '9/10'), ('tie', '5/6'), ('shoes', '3/4'), ('jacket', '1/2')]\n",
      "Current ordering: [('shirt', '13/14'), ('undershorts', '7/12'), ('pants', '8/11'), ('belt', '9/10'), ('tie', '5/6'), ('shoes', '3/4'), ('jacket', '1/2')]\n",
      "Current ordering: [('watch', '15/16'), ('shirt', '13/14'), ('undershorts', '7/12'), ('pants', '8/11'), ('belt', '9/10'), ('tie', '5/6'), ('shoes', '3/4'), ('jacket', '1/2')]\n",
      "Current ordering: [('socks', '17/18'), ('watch', '15/16'), ('shirt', '13/14'), ('undershorts', '7/12'), ('pants', '8/11'), ('belt', '9/10'), ('tie', '5/6'), ('shoes', '3/4'), ('jacket', '1/2')]\n"
     ]
    },
    {
     "data": {
      "text/plain": [
       "{'belt': Node(name=belt, color=BLACK, begin=9, end=10, parent=pants),\n",
       " 'jacket': Node(name=jacket, color=BLACK, begin=1, end=2, parent=None),\n",
       " 'pants': Node(name=pants, color=BLACK, begin=8, end=11, parent=undershorts),\n",
       " 'shirt': Node(name=shirt, color=BLACK, begin=13, end=14, parent=None),\n",
       " 'shoes': Node(name=shoes, color=BLACK, begin=3, end=4, parent=None),\n",
       " 'socks': Node(name=socks, color=BLACK, begin=17, end=18, parent=None),\n",
       " 'tie': Node(name=tie, color=BLACK, begin=5, end=6, parent=None),\n",
       " 'undershorts': Node(name=undershorts, color=BLACK, begin=7, end=12, parent=None),\n",
       " 'watch': Node(name=watch, color=BLACK, begin=15, end=16, parent=None)}"
      ]
     },
     "execution_count": 154,
     "metadata": {},
     "output_type": "execute_result"
    }
   ],
   "source": [
    "DFS(adj_list, verbose=1)"
   ]
  },
  {
   "cell_type": "code",
   "execution_count": 155,
   "metadata": {},
   "outputs": [
    {
     "name": "stdout",
     "output_type": "stream",
     "text": [
      "Final ordering: [('socks', '17/18'), ('watch', '15/16'), ('shirt', '13/14'), ('undershorts', '7/12'), ('pants', '8/11'), ('belt', '9/10'), ('tie', '5/6'), ('shoes', '3/4'), ('jacket', '1/2')]\n"
     ]
    }
   ],
   "source": [
    "print 'Final ordering:', ordering"
   ]
  },
  {
   "cell_type": "markdown",
   "metadata": {},
   "source": [
    "##### VERSION 2: LABELINGS"
   ]
  },
  {
   "cell_type": "code",
   "execution_count": 162,
   "metadata": {
    "collapsed": true
   },
   "outputs": [],
   "source": [
    "adj_list = {'undershorts':['pants','shoes'], 'socks':['shoes'],\n",
    "            'watch':[], 'pants':['shoes','belt'], 'shoes':[],\n",
    "            'shirt':['belt','tie'], 'belt':['jacket'], 'tie':['jacket'], 'jacket':[]}\n",
    "current_label = len(adj_list)\n",
    "\n",
    "def DFS_loop():\n",
    "    global adj_list\n",
    "    G = {}\n",
    "    for u in adj_list.keys():\n",
    "        G[u] = Node(u,'WHITE',0,None)\n",
    "    for u in adj_list:\n",
    "        if G[u].color=='WHITE':\n",
    "            DFS(G, u)\n",
    "    return G\n",
    "\n",
    "def DFS(G, u):\n",
    "    global adj_list, current_label\n",
    "    G[u].color = 'BLACK'\n",
    "    for v in adj_list[u]:\n",
    "        if G[v].color=='WHITE':\n",
    "            DFS(G, v)\n",
    "    G[u].d = current_label\n",
    "    current_label -= 1"
   ]
  },
  {
   "cell_type": "code",
   "execution_count": 163,
   "metadata": {},
   "outputs": [
    {
     "data": {
      "text/plain": [
       "[('socks', 1),\n",
       " ('watch', 2),\n",
       " ('shirt', 3),\n",
       " ('undershorts', 4),\n",
       " ('pants', 5),\n",
       " ('belt', 6),\n",
       " ('tie', 7),\n",
       " ('shoes', 8),\n",
       " ('jacket', 9)]"
      ]
     },
     "execution_count": 163,
     "metadata": {},
     "output_type": "execute_result"
    }
   ],
   "source": [
    "sorted([(u,node.d)for u,node in DFS_loop().iteritems()], key=lambda x:x[1])"
   ]
  },
  {
   "cell_type": "markdown",
   "metadata": {
    "collapsed": true
   },
   "source": [
    "### Strongly-Connected Components (SCC)\n",
    "\n",
    "* A subgraph $C$ of $G$ is an SCC, if \n",
    "    * All the nodes in $C$ are connected, and\n",
    "    * $\\forall v_i,v_j \\in C$, if $(v_i,v_j)$ is an edge, $(v_j,v_i)$ is an edge too."
   ]
  },
  {
   "cell_type": "code",
   "execution_count": 131,
   "metadata": {
    "collapsed": true
   },
   "outputs": [],
   "source": [
    "test0_path = '/home/jacobsuwang/Documents/CS TRAINING/ALGORITHMS/DATA/SCC_test0.txt' # 33300\n",
    "test1_path = '/home/jacobsuwang/Documents/CS TRAINING/ALGORITHMS/DATA/SCC_test1.txt' # 33300\n",
    "test2_path = '/home/jacobsuwang/Documents/CS TRAINING/ALGORITHMS/DATA/SCC_test2.txt' # 33200\n",
    "test3_path = '/home/jacobsuwang/Documents/CS TRAINING/ALGORITHMS/DATA/SCC_test3.txt' # 33110\n",
    "test4_path = '/home/jacobsuwang/Documents/CS TRAINING/ALGORITHMS/DATA/SCC_test4.txt' # 71000\n",
    "test5_path = '/home/jacobsuwang/Documents/CS TRAINING/ALGORITHMS/DATA/SCC_test5.txt' # 63210"
   ]
  },
  {
   "cell_type": "code",
   "execution_count": 155,
   "metadata": {
    "collapsed": true
   },
   "outputs": [],
   "source": [
    "def read_graph(path):\n",
    "    G = defaultdict(lambda: [[],[]]) # first sublist: points to; second sublist: being pointed to\n",
    "    with open(path) as source:\n",
    "        for line in source:\n",
    "            u,v = line.split()\n",
    "            u,v = int(u),int(v)\n",
    "            G[u][0].append(v) # u points to v\n",
    "            G[v][1].append(u) # v being pointed to by u\n",
    "    return G\n",
    "\n",
    "def rev_pass(G):\n",
    "    f = {}\n",
    "    t = 0\n",
    "    stack = []\n",
    "    visited = set()\n",
    "    for cur_node in xrange(1, len(G)+1):\n",
    "        if cur_node not in visited:\n",
    "            stack.append(cur_node)\n",
    "            while stack:\n",
    "                u = stack[-1] # set the 1st on stack as base\n",
    "                visited.add(u)\n",
    "                if G[u][1]==[]: # i.e. no more targets in G_rev\n",
    "                    t += 1\n",
    "                    f[t] = u\n",
    "                    stack.pop() # done with u\n",
    "                else:\n",
    "                    for v in G[u][1]:\n",
    "                        if v not in visited:\n",
    "                            visited.add(v)\n",
    "                            stack.append(v)\n",
    "                    G[u][1] = [] # empty targets in G_rev to mark termination\n",
    "    return f\n",
    "\n",
    "def fwd_pass(G, f):\n",
    "    leader2comp = Counter()\n",
    "    stack = []\n",
    "    visited = set()\n",
    "    for i in xrange(len(f),0,-1):\n",
    "        cur_node = f[i]\n",
    "        if cur_node not in visited:\n",
    "            stack.append(cur_node)\n",
    "            leader2comp[cur_node] += 1\n",
    "            while stack:\n",
    "                u = stack[-1] # set the 1st on stack as base\n",
    "                visited.add(u)\n",
    "                if G[u][0]==[]: # no more targets in G\n",
    "                    stack.pop() # done with u\n",
    "                else:\n",
    "                    for v in G[u][0]:\n",
    "                        if v not in visited:\n",
    "                            visited.add(v)\n",
    "                            stack.append(v)\n",
    "                            leader2comp[cur_node] += 1 # place unexplored node under the group of cur_node\n",
    "                    G[u][0] = [] # empty targets in G to mark termination\n",
    "    return leader2comp\n",
    "\n",
    "def kosaraju(path, topk=10):\n",
    "    G = read_graph(path)\n",
    "    f = rev_pass(G)\n",
    "    leader2comp = fwd_pass(G,f)\n",
    "    print leader2comp.most_common(topk)"
   ]
  },
  {
   "cell_type": "code",
   "execution_count": 156,
   "metadata": {},
   "outputs": [
    {
     "name": "stdout",
     "output_type": "stream",
     "text": [
      "[(8, 3), (1, 3), (9, 3)]\n",
      "[(8, 3), (1, 3), (9, 3)]\n",
      "[(1, 3), (6, 3), (4, 2)]\n",
      "[(1, 3), (6, 3), (4, 1), (5, 1)]\n",
      "[(1, 7), (5, 1)]\n",
      "[(7, 6), (2, 3), (3, 2), (1, 1)]\n"
     ]
    }
   ],
   "source": [
    "kosaraju(test0_path)\n",
    "kosaraju(test1_path)\n",
    "kosaraju(test2_path)\n",
    "kosaraju(test3_path)\n",
    "kosaraju(test4_path)\n",
    "kosaraju(test5_path)"
   ]
  },
  {
   "cell_type": "code",
   "execution_count": 157,
   "metadata": {},
   "outputs": [
    {
     "name": "stdout",
     "output_type": "stream",
     "text": [
      "[(1, 434821), (498116, 968), (13934, 459), (33604, 313), (97128, 211), (18994, 205), (4479, 197), (448227, 177), (80272, 162), (135140, 152)]\n"
     ]
    }
   ],
   "source": [
    "graph_path = '/home/jacobsuwang/Documents/CS TRAINING/ALGORITHMS/DATA/SCC.txt'\n",
    "kosaraju(graph_path)"
   ]
  }
 ],
 "metadata": {
  "kernelspec": {
   "display_name": "Python 2",
   "language": "python",
   "name": "python2"
  },
  "language_info": {
   "codemirror_mode": {
    "name": "ipython",
    "version": 2
   },
   "file_extension": ".py",
   "mimetype": "text/x-python",
   "name": "python",
   "nbconvert_exporter": "python",
   "pygments_lexer": "ipython2",
   "version": "2.7.12"
  }
 },
 "nbformat": 4,
 "nbformat_minor": 2
}
