{
 "cells": [
  {
   "cell_type": "markdown",
   "metadata": {},
   "source": [
    "# SORTING\n",
    "\n",
    "* Selection Sort\n",
    "* Insertion Sort\n",
    "* Bubble Sort\n",
    "* Merge Sort\n",
    "* Quick Sort"
   ]
  },
  {
   "cell_type": "code",
   "execution_count": 3,
   "metadata": {
    "collapsed": true
   },
   "outputs": [],
   "source": [
    "import random\n",
    "import numpy as np"
   ]
  },
  {
   "cell_type": "markdown",
   "metadata": {},
   "source": [
    "## Selection Sort\n",
    "\n",
    "* Complexity: $O(n^2)$"
   ]
  },
  {
   "cell_type": "code",
   "execution_count": 142,
   "metadata": {
    "collapsed": true
   },
   "outputs": [],
   "source": [
    "def selection_sort1(arr):\n",
    "    len_arr = len(arr)\n",
    "    for i in range(len_arr):\n",
    "        min_idx = i\n",
    "        for j in range(i+1,len_arr):\n",
    "            if arr[j]<arr[min_idx]:\n",
    "                min_idx = j\n",
    "        arr.insert(0,arr.pop(min_idx))\n",
    "\n",
    "def selection_sort2(arr):\n",
    "    len_arr = len(arr)\n",
    "    for i in range(len_arr):\n",
    "        min_idx = i\n",
    "        for j in range(i+1,len_arr):\n",
    "            if arr[min_idx]<arr[j]:\n",
    "                min_idx = j\n",
    "        arr[i], arr[min_idx] = arr[min_idx], arr[i]"
   ]
  },
  {
   "cell_type": "code",
   "execution_count": 187,
   "metadata": {},
   "outputs": [
    {
     "name": "stdout",
     "output_type": "stream",
     "text": [
      "100 loops, best of 3: 15 ms per loop\n"
     ]
    }
   ],
   "source": [
    "%%timeit\n",
    "\n",
    "arr = range(1000)\n",
    "random.shuffle(arr)\n",
    "selection_sort1(arr)"
   ]
  },
  {
   "cell_type": "code",
   "execution_count": 188,
   "metadata": {},
   "outputs": [
    {
     "data": {
      "text/plain": [
       "[0, 1, 2, 3, 4, 5, 6, 7, 8, 9]"
      ]
     },
     "execution_count": 188,
     "metadata": {},
     "output_type": "execute_result"
    }
   ],
   "source": [
    "arr[:10]"
   ]
  },
  {
   "cell_type": "code",
   "execution_count": 189,
   "metadata": {},
   "outputs": [
    {
     "name": "stdout",
     "output_type": "stream",
     "text": [
      "100 loops, best of 3: 14.6 ms per loop\n"
     ]
    }
   ],
   "source": [
    "%%timeit\n",
    "\n",
    "arr = range(1000)\n",
    "random.shuffle(arr)\n",
    "selection_sort2(arr)"
   ]
  },
  {
   "cell_type": "code",
   "execution_count": 190,
   "metadata": {},
   "outputs": [
    {
     "data": {
      "text/plain": [
       "[0, 1, 2, 3, 4, 5, 6, 7, 8, 9]"
      ]
     },
     "execution_count": 190,
     "metadata": {},
     "output_type": "execute_result"
    }
   ],
   "source": [
    "arr[:10]"
   ]
  },
  {
   "cell_type": "markdown",
   "metadata": {},
   "source": [
    "## Insertion Sort\n",
    "\n",
    "* Complexity: $O(n^2)$"
   ]
  },
  {
   "cell_type": "code",
   "execution_count": 191,
   "metadata": {
    "collapsed": true
   },
   "outputs": [],
   "source": [
    "def insertion_sort1(arr):\n",
    "    len_arr = len(arr)\n",
    "    for i in range(1,len_arr):\n",
    "        for j in range(i-1,-1,-1):\n",
    "            if arr[j]<arr[i]:\n",
    "                arr.insert(j+1,arr.pop(i))\n",
    "                break\n",
    "            if j==0:\n",
    "                arr.insert(j,arr.pop(i))\n",
    "                \n",
    "def insertion_sort2(arr):\n",
    "    len_arr = len(arr)\n",
    "    for i in range(1,len_arr):\n",
    "        key = arr[i]\n",
    "        j = i-1\n",
    "        while j>=0 and key<arr[j]:\n",
    "            arr[j+1] = arr[j]\n",
    "            j -= 1\n",
    "        arr[j+1] = key"
   ]
  },
  {
   "cell_type": "code",
   "execution_count": 192,
   "metadata": {},
   "outputs": [
    {
     "name": "stdout",
     "output_type": "stream",
     "text": [
      "100 loops, best of 3: 10.5 ms per loop\n"
     ]
    }
   ],
   "source": [
    "%%timeit\n",
    "\n",
    "arr = range(1000)\n",
    "random.shuffle(arr)\n",
    "insertion_sort1(arr)"
   ]
  },
  {
   "cell_type": "code",
   "execution_count": 193,
   "metadata": {},
   "outputs": [
    {
     "data": {
      "text/plain": [
       "[0, 1, 2, 3, 4, 5, 6, 7, 8, 9]"
      ]
     },
     "execution_count": 193,
     "metadata": {},
     "output_type": "execute_result"
    }
   ],
   "source": [
    "arr[:10]"
   ]
  },
  {
   "cell_type": "code",
   "execution_count": 194,
   "metadata": {},
   "outputs": [
    {
     "name": "stdout",
     "output_type": "stream",
     "text": [
      "100 loops, best of 3: 14.5 ms per loop\n"
     ]
    }
   ],
   "source": [
    "%%timeit\n",
    "\n",
    "arr = range(1000)\n",
    "random.shuffle(arr)\n",
    "insertion_sort2(arr)"
   ]
  },
  {
   "cell_type": "code",
   "execution_count": 195,
   "metadata": {},
   "outputs": [
    {
     "data": {
      "text/plain": [
       "[0, 1, 2, 3, 4, 5, 6, 7, 8, 9]"
      ]
     },
     "execution_count": 195,
     "metadata": {},
     "output_type": "execute_result"
    }
   ],
   "source": [
    "arr[:10]"
   ]
  },
  {
   "cell_type": "markdown",
   "metadata": {},
   "source": [
    "## Bubble Sort\n",
    "\n",
    "* Complexity: $O(n^2)$"
   ]
  },
  {
   "cell_type": "code",
   "execution_count": 196,
   "metadata": {
    "collapsed": true
   },
   "outputs": [],
   "source": [
    "def bubble_sort1(arr):\n",
    "    len_arr = len(arr)\n",
    "    for i in range(len_arr-1,0,-1):\n",
    "        for j in range(i):\n",
    "            if arr[j]>arr[j+1]:\n",
    "                arr.insert(j,arr.pop(j+1))\n",
    "                \n",
    "def bubble_sort2(arr):\n",
    "    len_arr = len(arr)\n",
    "    for i in range(len_arr):\n",
    "        for j in range(len_arr-i-1):\n",
    "            if arr[j]>arr[j+1]:\n",
    "                arr[j], arr[j+1] = arr[j+1], arr[j]"
   ]
  },
  {
   "cell_type": "code",
   "execution_count": 197,
   "metadata": {},
   "outputs": [
    {
     "name": "stdout",
     "output_type": "stream",
     "text": [
      "10 loops, best of 3: 98 ms per loop\n"
     ]
    }
   ],
   "source": [
    "%%timeit\n",
    "\n",
    "arr = range(1000)\n",
    "random.shuffle(arr)\n",
    "bubble_sort1(arr)"
   ]
  },
  {
   "cell_type": "code",
   "execution_count": 198,
   "metadata": {},
   "outputs": [
    {
     "data": {
      "text/plain": [
       "[0, 1, 2, 3, 4, 5, 6, 7, 8, 9]"
      ]
     },
     "execution_count": 198,
     "metadata": {},
     "output_type": "execute_result"
    }
   ],
   "source": [
    "arr[:10]"
   ]
  },
  {
   "cell_type": "code",
   "execution_count": 199,
   "metadata": {},
   "outputs": [
    {
     "name": "stdout",
     "output_type": "stream",
     "text": [
      "10 loops, best of 3: 30.7 ms per loop\n"
     ]
    }
   ],
   "source": [
    "%%timeit\n",
    "\n",
    "arr = range(1000)\n",
    "random.shuffle(arr)\n",
    "bubble_sort2(arr)"
   ]
  },
  {
   "cell_type": "code",
   "execution_count": 200,
   "metadata": {},
   "outputs": [
    {
     "data": {
      "text/plain": [
       "[0, 1, 2, 3, 4, 5, 6, 7, 8, 9]"
      ]
     },
     "execution_count": 200,
     "metadata": {},
     "output_type": "execute_result"
    }
   ],
   "source": [
    "arr[:10]"
   ]
  },
  {
   "cell_type": "markdown",
   "metadata": {},
   "source": [
    "## Merge Sort\n",
    "\n",
    "* Complexity: $O(nlogn)$"
   ]
  },
  {
   "cell_type": "code",
   "execution_count": 243,
   "metadata": {
    "collapsed": true
   },
   "outputs": [],
   "source": [
    "def merge1(arr1, arr2):\n",
    "    len_arr1, len_arr2 = len(arr1), len(arr2)\n",
    "    i,j = 0,0\n",
    "    arr = []\n",
    "    while i<len_arr1 and j<len_arr2:\n",
    "        if arr1[i]<=arr2[j]:\n",
    "            arr.append(arr1[i])\n",
    "            i += 1\n",
    "        else:\n",
    "            arr.append(arr2[j])\n",
    "            j += 1\n",
    "    if i>=len_arr1:\n",
    "        return arr + arr2[j:]\n",
    "    return arr + arr1[i:]\n",
    "\n",
    "def merge_sort1(arr):\n",
    "    len_arr = len(arr)\n",
    "    if len_arr>1:\n",
    "        mid = len_arr//2\n",
    "        arr1, arr2 = arr[:mid], arr[mid:]\n",
    "        return merge1(merge_sort1(arr1),merge_sort1(arr2))\n",
    "    return arr\n",
    "\n",
    "def merge2(arr, l, m, r):\n",
    "    n1 = m-l+1\n",
    "    n2 = r-m\n",
    "    L = [0] * (n1)\n",
    "    R = [0] * (n2)\n",
    "    for i in range(0, n1):\n",
    "        L[i] = arr[l+i]\n",
    "    for j in range(0, n2):\n",
    "        R[j] = arr[m+1+j]\n",
    "    i,j,k = 0,0,l\n",
    "    while i<n1 and j<n2:\n",
    "        if L[i]<=R[j]:\n",
    "            arr[k] = L[i]\n",
    "            i += 1\n",
    "        else:\n",
    "            arr[k] = R[j]\n",
    "            j += 2\n",
    "        k += 1\n",
    "    while i<n1:\n",
    "        arr[k] = L[i]\n",
    "        i += 1\n",
    "        k += 1\n",
    "    while j<n2:\n",
    "        arr[k] = R[j]\n",
    "        j += 1\n",
    "        k += 1\n",
    "\n",
    "def merge_sort2(arr, l, r):\n",
    "    if l < r:\n",
    "        m = (l+(r-1))//2\n",
    "        merge_sort2(arr, l, m)\n",
    "        merge_sort2(arr, m+1, r)\n",
    "        merge2(arr, l, m, r)"
   ]
  },
  {
   "cell_type": "code",
   "execution_count": 235,
   "metadata": {},
   "outputs": [
    {
     "name": "stdout",
     "output_type": "stream",
     "text": [
      "1000 loops, best of 3: 1.54 ms per loop\n"
     ]
    }
   ],
   "source": [
    "%%timeit\n",
    "\n",
    "arr = range(1000)\n",
    "random.shuffle(arr)\n",
    "merge_sort1(arr)"
   ]
  },
  {
   "cell_type": "code",
   "execution_count": 236,
   "metadata": {},
   "outputs": [
    {
     "data": {
      "text/plain": [
       "[0, 1, 2, 3, 4, 5, 6, 7, 8, 9]"
      ]
     },
     "execution_count": 236,
     "metadata": {},
     "output_type": "execute_result"
    }
   ],
   "source": [
    "arr[:10]"
   ]
  },
  {
   "cell_type": "code",
   "execution_count": 244,
   "metadata": {},
   "outputs": [
    {
     "name": "stdout",
     "output_type": "stream",
     "text": [
      "100 loops, best of 3: 2.02 ms per loop\n"
     ]
    }
   ],
   "source": [
    "%%timeit\n",
    "\n",
    "arr = range(1000)\n",
    "random.shuffle(arr)\n",
    "merge_sort2(arr, 0, len(arr)-1)"
   ]
  },
  {
   "cell_type": "code",
   "execution_count": 245,
   "metadata": {},
   "outputs": [
    {
     "data": {
      "text/plain": [
       "[0, 1, 2, 3, 4, 5, 6, 7, 8, 9]"
      ]
     },
     "execution_count": 245,
     "metadata": {},
     "output_type": "execute_result"
    }
   ],
   "source": [
    "arr[:10]"
   ]
  },
  {
   "cell_type": "markdown",
   "metadata": {},
   "source": [
    "## Quick Sort\n",
    "\n",
    "* Complexity: $O(n^2)$ (avg = $\\Theta(nlogn)$, very good in practice)"
   ]
  },
  {
   "cell_type": "code",
   "execution_count": 24,
   "metadata": {
    "collapsed": true
   },
   "outputs": [],
   "source": [
    "def partition(arr, start, end):\n",
    "    piv = arr[end]\n",
    "    p_idx = start\n",
    "    for i in range(start,end):\n",
    "        if arr[i]<piv:\n",
    "            arr[i], arr[p_idx] = arr[p_idx], arr[i]\n",
    "            p_idx += 1\n",
    "    arr[p_idx], arr[end] = arr[end], arr[p_idx]\n",
    "    return p_idx\n",
    "def quick_sort(arr, start, end):\n",
    "    if start<end:\n",
    "        p_idx = partition(arr, start, end)\n",
    "        quick_sort(arr, start, p_idx-1)\n",
    "        quick_sort(arr, p_idx+1, end)"
   ]
  },
  {
   "cell_type": "code",
   "execution_count": 27,
   "metadata": {},
   "outputs": [
    {
     "name": "stdout",
     "output_type": "stream",
     "text": [
      "1000 loops, best of 3: 994 µs per loop\n"
     ]
    }
   ],
   "source": [
    "%%timeit\n",
    "\n",
    "arr = range(1000)\n",
    "random.shuffle(arr)\n",
    "quick_sort(arr, 0, len(arr)-1)"
   ]
  },
  {
   "cell_type": "markdown",
   "metadata": {},
   "source": [
    "## Python Build-in\n",
    "\n",
    "* Complexity: $O(nlogn)$ (a hybrid of merge and insertion sort)"
   ]
  },
  {
   "cell_type": "code",
   "execution_count": 261,
   "metadata": {},
   "outputs": [
    {
     "name": "stdout",
     "output_type": "stream",
     "text": [
      "1000 loops, best of 3: 251 µs per loop\n"
     ]
    }
   ],
   "source": [
    "%%timeit\n",
    "\n",
    "arr = range(1000)\n",
    "random.shuffle(arr)\n",
    "sorted(arr)"
   ]
  }
 ],
 "metadata": {
  "kernelspec": {
   "display_name": "Python 2",
   "language": "python",
   "name": "python2"
  },
  "language_info": {
   "codemirror_mode": {
    "name": "ipython",
    "version": 2
   },
   "file_extension": ".py",
   "mimetype": "text/x-python",
   "name": "python",
   "nbconvert_exporter": "python",
   "pygments_lexer": "ipython2",
   "version": "2.7.12"
  }
 },
 "nbformat": 4,
 "nbformat_minor": 2
}
