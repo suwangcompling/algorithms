{
 "cells": [
  {
   "cell_type": "markdown",
   "metadata": {},
   "source": [
    "# INTRO\n",
    "\n",
    "* Conventional Multiplication\n",
    "* Karatsuba Multiplication"
   ]
  },
  {
   "cell_type": "code",
   "execution_count": 1,
   "metadata": {
    "collapsed": true
   },
   "outputs": [],
   "source": [
    "import random\n",
    "import numpy as np"
   ]
  },
  {
   "cell_type": "markdown",
   "metadata": {},
   "source": [
    "## Conventional Multiplication\n",
    "\n",
    "* Complexity: $O(n^2)$"
   ]
  },
  {
   "cell_type": "code",
   "execution_count": 220,
   "metadata": {
    "collapsed": true
   },
   "outputs": [],
   "source": [
    "# e.g.\n",
    "\n",
    "#         23958233\n",
    "#   ×         5830\n",
    "#   ———————————————\n",
    "#         00000000 ( =      23,958,233 ×     0)\n",
    "#        71874699  ( =      23,958,233 ×    30)\n",
    "#      191665864   ( =      23,958,233 ×   800)\n",
    "#   + 119791165    ( =      23,958,233 × 5,000)\n",
    "#   ———————————————\n",
    "#     139676498390 ( = 139,676,498,390        )"
   ]
  },
  {
   "cell_type": "code",
   "execution_count": 98,
   "metadata": {
    "collapsed": true
   },
   "outputs": [],
   "source": [
    "def conv_mult(num1, num2, verbose=1):\n",
    "    arr1, arr2 = [int(c) for c in str(num1)], [int(c) for c in str(num2)]\n",
    "    len_arr1, len_arr2 = len(arr1), len(arr2)\n",
    "    # cartesian-style mults\n",
    "    arr = []\n",
    "    for i in range(len_arr2-1,-1,-1): # every item in arr2 mult every item in arr1\n",
    "        sub_arr = []\n",
    "        carry = 0\n",
    "        for j in range(len_arr1-1,-1,-1):\n",
    "            ret = arr1[j]*arr2[i] + carry\n",
    "            sub_arr.insert(0,ret%10)\n",
    "            carry = ret/10\n",
    "        if i>0:\n",
    "            sub_arr.insert(0,carry)\n",
    "        sub_arr += [0] * (len_arr2-1-i)\n",
    "        arr.append(sub_arr)\n",
    "    maxlen = max([len(sub_arr) for sub_arr in arr])\n",
    "    arr = np.array([[0]*(maxlen-len(sub_arr))+sub_arr for sub_arr in arr])\n",
    "    if verbose: print arr\n",
    "    arr = arr.sum(axis=0)\n",
    "    # summation\n",
    "    carry = 0\n",
    "    final = []\n",
    "    for k in range(len(arr)-1,-1,-1):\n",
    "        ret = arr[k]+carry\n",
    "        final.insert(0,ret%10)\n",
    "        carry = ret/10\n",
    "    if carry!=0:\n",
    "        final.insert(0,carry)\n",
    "    return int(''.join([str(i) for i in final]))"
   ]
  },
  {
   "cell_type": "code",
   "execution_count": 99,
   "metadata": {},
   "outputs": [
    {
     "name": "stdout",
     "output_type": "stream",
     "text": [
      "[[0 0 2 2 7 1 2]\n",
      " [0 1 7 0 3 4 0]\n",
      " [1 1 3 5 6 0 0]\n",
      " [5 6 7 8 0 0 0]]\n"
     ]
    },
    {
     "data": {
      "text/plain": [
       "7006652"
      ]
     },
     "execution_count": 99,
     "metadata": {},
     "output_type": "execute_result"
    }
   ],
   "source": [
    "conv_mult(5678,1234)"
   ]
  },
  {
   "cell_type": "code",
   "execution_count": 107,
   "metadata": {},
   "outputs": [
    {
     "name": "stdout",
     "output_type": "stream",
     "text": [
      "1000 loops, best of 3: 1.04 ms per loop\n"
     ]
    }
   ],
   "source": [
    "%%timeit\n",
    "\n",
    "conv_mult(random.getrandbits(200),random.getrandbits(200),verbose=0)"
   ]
  },
  {
   "cell_type": "markdown",
   "metadata": {},
   "source": [
    "## Karatsuba Multiplication\n",
    "\n",
    "* Complexity: $O(n^{log_23})$"
   ]
  },
  {
   "cell_type": "markdown",
   "metadata": {},
   "source": [
    "Let $x,y$ be the factors in multiplication, say $x=1234,y=5678$, then we may split $x,y$ as follows:\n",
    "\n",
    "$x: a = 12, b = 34;\\quad y: c = 56, d = 78$\n",
    "\n",
    "and write $x = 10^{n/2}a + b,\\quad y = 10^{n/2}c + d$, then we have\n",
    "\n",
    "$$\\begin{align}x\\times y &= (10^{n/2}a + b)\\times(10^{n/2}c+d)\\\\ &= 10^n\\cdot ac + 10^{n/2}(ad+bc) + bd\\end{align}$$"
   ]
  },
  {
   "cell_type": "code",
   "execution_count": 218,
   "metadata": {},
   "outputs": [],
   "source": [
    "def size_base10(num):\n",
    "    return len(str(num))\n",
    "\n",
    "def split_at(num, idx):\n",
    "    return num/(10**idx), num%(10**idx)\n",
    "\n",
    "def kara_mult(num1, num2):\n",
    "    if (num1<10) or (num2<10):\n",
    "        return num1*num2\n",
    "    m = max(size_base10(num1), size_base10(num2))\n",
    "    m2 = m/2\n",
    "    a, b = split_at(num1, m2)\n",
    "    c, d = split_at(num2, m2)\n",
    "    ac = kara_mult(a, c)\n",
    "    bd = kara_mult(b, d)\n",
    "    z = kara_mult((a+b),(c+d))\n",
    "    return (ac*(10**(2*m2))) + ((z-ac-bd)*(10**m2)) + bd"
   ]
  },
  {
   "cell_type": "code",
   "execution_count": 219,
   "metadata": {},
   "outputs": [
    {
     "name": "stdout",
     "output_type": "stream",
     "text": [
      "1000 loops, best of 3: 705 µs per loop\n"
     ]
    }
   ],
   "source": [
    "%%timeit\n",
    "\n",
    "kara_mult(random.getrandbits(200),random.getrandbits(200))"
   ]
  },
  {
   "cell_type": "code",
   "execution_count": 223,
   "metadata": {},
   "outputs": [
    {
     "name": "stdout",
     "output_type": "stream",
     "text": [
      "3141592653589793238462643383279502884197169399375105820974944592\n",
      "\n",
      "2718281828459045235360287471352662497757247093699959574966967627\n",
      "\n",
      "My Answer:\n",
      "8539734222673567065463550869546574495034888535765114961879601127067743044893204848617875072216249073013374895871952806582723184\n",
      "\n",
      "Answer Key:\n",
      "8539734222673567065463550869546574495034888535765114961879601127067743044893204848617875072216249073013374895871952806582723184\n",
      "\n",
      "correct? yes\n"
     ]
    }
   ],
   "source": [
    "x = 3141592653589793238462643383279502884197169399375105820974944592\n",
    "y = 2718281828459045235360287471352662497757247093699959574966967627\n",
    "print x; print\n",
    "print y; print\n",
    "print 'My Answer:'\n",
    "print kara_mult(x, y); print\n",
    "print 'Answer Key:'\n",
    "print x*y; print \n",
    "print 'correct?', 'yes' if x*y==kara_mult(x,y) else 'no'"
   ]
  }
 ],
 "metadata": {
  "kernelspec": {
   "display_name": "Python 2",
   "language": "python",
   "name": "python2"
  },
  "language_info": {
   "codemirror_mode": {
    "name": "ipython",
    "version": 2
   },
   "file_extension": ".py",
   "mimetype": "text/x-python",
   "name": "python",
   "nbconvert_exporter": "python",
   "pygments_lexer": "ipython2",
   "version": "2.7.12"
  }
 },
 "nbformat": 4,
 "nbformat_minor": 2
}
