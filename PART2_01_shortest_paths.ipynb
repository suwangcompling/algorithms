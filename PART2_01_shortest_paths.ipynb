{
 "cells": [
  {
   "cell_type": "markdown",
   "metadata": {},
   "source": [
    "# Shortest Paths\n",
    "\n",
    "* Dijkstra: Brute force\n",
    "* Dijkstra: Heap-based (much much faster)"
   ]
  },
  {
   "cell_type": "code",
   "execution_count": 569,
   "metadata": {
    "collapsed": true
   },
   "outputs": [],
   "source": [
    "import random\n",
    "import numpy as np\n",
    "\n",
    "from collections import defaultdict"
   ]
  },
  {
   "cell_type": "code",
   "execution_count": 18,
   "metadata": {
    "collapsed": true
   },
   "outputs": [],
   "source": [
    "graph_path = '/home/jacobsuwang/Documents/CS TRAINING/ALGORITHMS/DATA/Dijkstra.txt'\n",
    "targets = ['7','37','59','82','99','115','133','165','188','197']"
   ]
  },
  {
   "cell_type": "markdown",
   "metadata": {},
   "source": [
    "### Dijkstra (Base: $O(mn)$)\n",
    "\n",
    "**Pseudo Code**\n",
    "\n",
    "$func(G, V, s):$\n",
    "* $X = {s}$ # put root in 'explored set'\n",
    "* $A[s] = 0$ # set dist(s,s) to 0\n",
    "* while $X\\neq V$:\n",
    "    * Find $(v^*,w^*)$ in $\\{(v,w)\\mid v\\in X, w\\notin X\\}$, s.t. $(v^*,w^*)=\\text{argmin}_{(v,w)} A[v]+l_{v,w}$\n",
    "    * $X := X\\cup \\{w^*\\}$\n",
    "    * $A[w^*] := A[v] + l_{v^*,w^*}$"
   ]
  },
  {
   "cell_type": "code",
   "execution_count": 28,
   "metadata": {
    "collapsed": true
   },
   "outputs": [],
   "source": [
    "def read_graph(path):\n",
    "    G, V = {}, set()\n",
    "    with open(path,'r') as source:\n",
    "        for line in source:\n",
    "            line = line.split()\n",
    "            u = line[0]\n",
    "            V.add(u)\n",
    "            for tup in line[1:]:\n",
    "                v, wgt = tup.split(',')\n",
    "                G[(u,v)] = int(wgt)\n",
    "    return G,V"
   ]
  },
  {
   "cell_type": "code",
   "execution_count": 53,
   "metadata": {},
   "outputs": [],
   "source": [
    "G, V = read_graph(graph_path)\n",
    "\n",
    "def dijkstra_base(G, V, s, targets, verbose=False):\n",
    "    X = set([s])\n",
    "    A = {s:0}\n",
    "    while X!=V:\n",
    "        min_u,min_v, min_wgt = s,s, np.inf\n",
    "        for (u,v),wgt in G.iteritems():\n",
    "            if u in X and v not in X and A[u]+wgt<min_wgt:\n",
    "                min_u,min_v = u,v\n",
    "                min_wgt = A[u]+wgt\n",
    "        X.add(min_v)\n",
    "        A[min_v] = min_wgt\n",
    "    if verbose:\n",
    "        for target in targets:\n",
    "            print target+':', A[target]\n",
    "\n",
    "        print\n",
    "        print 'ANSWER:'\n",
    "        print targets\n",
    "        print [A[target] for target in targets]"
   ]
  },
  {
   "cell_type": "code",
   "execution_count": 54,
   "metadata": {
    "scrolled": true
   },
   "outputs": [
    {
     "name": "stdout",
     "output_type": "stream",
     "text": [
      "7: 2599\n",
      "37: 2610\n",
      "59: 2947\n",
      "82: 2052\n",
      "99: 2367\n",
      "115: 2399\n",
      "133: 2029\n",
      "165: 2442\n",
      "188: 2505\n",
      "197: 3068\n",
      "\n",
      "ANSWER:\n",
      "['7', '37', '59', '82', '99', '115', '133', '165', '188', '197']\n",
      "[2599, 2610, 2947, 2052, 2367, 2399, 2029, 2442, 2505, 3068]\n"
     ]
    }
   ],
   "source": [
    "dijkstra_base(G,V,'1',targets,verbose=1)"
   ]
  },
  {
   "cell_type": "code",
   "execution_count": 55,
   "metadata": {},
   "outputs": [
    {
     "name": "stdout",
     "output_type": "stream",
     "text": [
      "10 loops, best of 3: 54.9 ms per loop\n"
     ]
    }
   ],
   "source": [
    "%%timeit\n",
    "\n",
    "dijkstra_base(G,V,'1',targets)"
   ]
  },
  {
   "cell_type": "markdown",
   "metadata": {},
   "source": [
    "### Dijkstra (Heap: $O(mlogn)$)\n",
    "\n",
    "**Pseudo Code**\n",
    "\n",
    "$func(G, V, s):$\n",
    "* $X = {s}$\n",
    "* $A[v]=c,\\forall v$, where $c$ is some arbitrary large constant (can use $\\infty$) for initial dist(s,v)\n",
    "* $A[s] = 0$\n",
    "* initialize heap hp with $hp(s)=0,hp(v)=c,\\forall v\\in V-\\{s\\}$\n",
    "* while $X\\neq V$:\n",
    "    * $u =$ hp.extract_min()\n",
    "    * $X := X\\cup \\{u\\}$\n",
    "    * relax($u$) # adjust the $A[v]=\\text{min}(A[v],A[u]+l_{u,v}),\\forall v\\in adj[u]$\n",
    "    * delete $u$ from heap"
   ]
  },
  {
   "cell_type": "code",
   "execution_count": 570,
   "metadata": {},
   "outputs": [],
   "source": [
    "def read_graph(path):\n",
    "    G, V = defaultdict(list), set()\n",
    "    with open(path,'r') as source:\n",
    "        for line in source:\n",
    "            line = line.split()\n",
    "            u = line[0]\n",
    "            V.add(u)\n",
    "            for tup in line[1:]:\n",
    "                v, wgt = tup.split(',')\n",
    "                G[u].append((v,int(wgt)))\n",
    "    return G,V      \n",
    "\n",
    "class Node:\n",
    "    \n",
    "    def __init__(self, name, val):\n",
    "        self.name = name\n",
    "        self.val = val\n",
    "        \n",
    "class NodeHeap:\n",
    "    \n",
    "    def __init__(self):\n",
    "        self.__heap = []\n",
    "        self.__node2idx = {}\n",
    "        self.__len = 0\n",
    "        \n",
    "    # Private Methods\n",
    "    \n",
    "    def _is_empty(self):\n",
    "        return True if self.__len==0 else False\n",
    "        \n",
    "    def _swap(self, u, v):\n",
    "        u_idx,v_idx = self.__node2idx[u],self.__node2idx[v]\n",
    "        self.__heap[u_idx],self.__heap[v_idx] = \\\n",
    "        self.__heap[v_idx],self.__heap[u_idx]\n",
    "        self.__node2idx[u],self.__node2idx[v] = v_idx,u_idx\n",
    "        \n",
    "    def _get_parent(self, u):\n",
    "        try: return self.__heap[(self.__node2idx[u]-1)//2].name\n",
    "        except: return False\n",
    "    def _get_leftchild(self, u):\n",
    "        try: return self.__heap[2*self.__node2idx[u]+1].name\n",
    "        except: return False\n",
    "    def _get_rightchild(self, u):\n",
    "        try: return self.__heap[2*self.__node2idx[u]+2].name\n",
    "        except: return False\n",
    "    \n",
    "    def _remove_last(self):\n",
    "        if not self._is_empty():\n",
    "            last_node = self.__heap.pop()\n",
    "            del self.__node2idx[last_node.name]\n",
    "            self.__len -= 1\n",
    "    \n",
    "    # Public Methods\n",
    "    \n",
    "    def heap(self):\n",
    "        return self.__heap\n",
    "    def print_heap(self):\n",
    "        return [(node.name,node.val) for node in self.__heap]\n",
    "    def node2idx(self):\n",
    "        return self.__node2idx\n",
    "    def length(self):\n",
    "        return self.__len\n",
    "    def get_name(self, u_idx):\n",
    "        if not self._is_empty(): return self.__heap[self.__len-1].name\n",
    "        return False\n",
    "    def get_index(self, u):\n",
    "        if not self._is_empty(): return self.__node2idx[u]\n",
    "        return False\n",
    "    def get_value(self, u):\n",
    "        if not self._is_empty(): return self.__heap[self.get_index(u)].val\n",
    "        return False\n",
    "        \n",
    "    def insert(self, u, val):\n",
    "        self.__heap.append(Node(u, val))\n",
    "        self.__node2idx[u] = self.__len\n",
    "        self.__len += 1\n",
    "        while True:\n",
    "            if self.get_index(u)==0: break\n",
    "            parent_u = self._get_parent(u)\n",
    "            if self.get_value(u)<self.get_value(parent_u):\n",
    "                self._swap(u,parent_u)\n",
    "            else: break\n",
    "    \n",
    "    def delete(self, u):\n",
    "        v = self.get_name(self.__len-1)\n",
    "        self._swap(u, v)\n",
    "        self._remove_last()\n",
    "        u = v\n",
    "        while True:\n",
    "            lc_u,rc_u = self._get_leftchild(u),self._get_rightchild(u)\n",
    "            if lc_u and rc_u:\n",
    "                v = lc_u if self.get_value(lc_u)<self.get_value(rc_u) else rc_u\n",
    "            elif lc_u and not rc_u:\n",
    "                v = lc_u\n",
    "            else:\n",
    "                break\n",
    "            if self.get_value(u)<self.get_value(v):\n",
    "                break\n",
    "            self._swap(u, v)\n",
    "    \n",
    "    def extract_min(self):\n",
    "        if not self._is_empty():\n",
    "            return self.__heap[0].name\n",
    "        return False"
   ]
  },
  {
   "cell_type": "code",
   "execution_count": 571,
   "metadata": {},
   "outputs": [
    {
     "name": "stdout",
     "output_type": "stream",
     "text": [
      "INPUT: [('e', 9), ('c', 14), ('b', 7), ('f', 17), ('d', 12), ('a', 4), ('g', 18)]\n",
      "\n",
      "INSERT TEST:\n",
      "inserted e, got [('e', 9)] (min=e)\n",
      "inserted c, got [('e', 9), ('c', 14)] (min=e)\n",
      "inserted b, got [('b', 7), ('c', 14), ('e', 9)] (min=b)\n",
      "inserted f, got [('b', 7), ('c', 14), ('e', 9), ('f', 17)] (min=b)\n",
      "inserted d, got [('b', 7), ('d', 12), ('e', 9), ('f', 17), ('c', 14)] (min=b)\n",
      "inserted a, got [('a', 4), ('d', 12), ('b', 7), ('f', 17), ('c', 14), ('e', 9)] (min=a)\n",
      "inserted g, got [('a', 4), ('d', 12), ('b', 7), ('f', 17), ('c', 14), ('e', 9), ('g', 18)] (min=a)\n",
      "\n",
      "DELETE TEST:\n",
      "deleted e, got [('a', 4), ('d', 12), ('b', 7), ('f', 17), ('c', 14), ('g', 18)] (min=a)\n",
      "deleted c, got [('a', 4), ('d', 12), ('b', 7), ('f', 17), ('g', 18)] (min=a)\n",
      "deleted b, got [('a', 4), ('d', 12), ('g', 18), ('f', 17)] (min=a)\n",
      "deleted f, got [('a', 4), ('d', 12), ('g', 18)] (min=a)\n",
      "deleted d, got [('a', 4), ('g', 18)] (min=a)\n",
      "deleted a, got [('g', 18)] (min=g)\n",
      "deleted g, got [] ()\n"
     ]
    }
   ],
   "source": [
    "def test():\n",
    "    names = ['a','b','c','d','e','f','g']\n",
    "    vals = [4,7,14,12,9,17,18]  \n",
    "    scramble = zip(names,vals)\n",
    "    random.shuffle(scramble)\n",
    "    print 'INPUT:', scramble\n",
    "    print\n",
    "    print 'INSERT TEST:'\n",
    "    nhp = NodeHeap()\n",
    "    for name,val in scramble:\n",
    "        nhp.insert(name,val)\n",
    "        print 'inserted', name+', got', nhp.print_heap(), '(min='+nhp.extract_min()+')'\n",
    "    print\n",
    "    print 'DELETE TEST:'\n",
    "    for name,val in scramble:\n",
    "        nhp.delete(name)\n",
    "        print 'deleted', name+', got', nhp.print_heap(), \n",
    "        min_name = nhp.extract_min()\n",
    "        print '(min='+min_name+')' if min_name else '()'\n",
    "        \n",
    "test()"
   ]
  },
  {
   "cell_type": "code",
   "execution_count": 572,
   "metadata": {
    "collapsed": true
   },
   "outputs": [],
   "source": [
    "def init_heap(V, s):\n",
    "    hp = NodeHeap()\n",
    "    hp.insert(s, 0)\n",
    "    for v in V-set([s]):\n",
    "        hp.insert(v,1000000)\n",
    "    return hp\n",
    "\n",
    "def relax(G, X, A, hp, u):\n",
    "    for v,wgt in G[u]:\n",
    "        if v not in X:\n",
    "            hp.delete(v)\n",
    "            A[v] = min(A[v],A[u]+wgt)\n",
    "            hp.insert(v,A[v])\n",
    "\n",
    "def dijkstra(G, V, s, targets, verbose=False):\n",
    "    X = set([s])\n",
    "    A = {v:1000000 for v in V}\n",
    "    A[s] = 0\n",
    "    hp = init_heap(V, s)\n",
    "    while X!=V:\n",
    "        u = hp.extract_min()\n",
    "        X.add(u)\n",
    "        relax(G, X, A, hp, u)\n",
    "        hp.delete(u)\n",
    "    if verbose:\n",
    "        for target in targets:\n",
    "            print target+':', A[target]\n",
    "\n",
    "        print\n",
    "        print 'ANSWER:'\n",
    "        print targets\n",
    "        print [A[target] for target in targets]"
   ]
  },
  {
   "cell_type": "code",
   "execution_count": 575,
   "metadata": {},
   "outputs": [
    {
     "name": "stdout",
     "output_type": "stream",
     "text": [
      "7: 2599\n",
      "37: 2610\n",
      "59: 2947\n",
      "82: 2052\n",
      "99: 2367\n",
      "115: 2399\n",
      "133: 2029\n",
      "165: 2442\n",
      "188: 2505\n",
      "197: 3068\n",
      "\n",
      "ANSWER:\n",
      "['7', '37', '59', '82', '99', '115', '133', '165', '188', '197']\n",
      "[2599, 2610, 2947, 2052, 2367, 2399, 2029, 2442, 2505, 3068]\n"
     ]
    }
   ],
   "source": [
    "G,V = read_graph(graph_path)\n",
    "\n",
    "dijkstra(G,V,'1',targets,verbose=1)"
   ]
  },
  {
   "cell_type": "code",
   "execution_count": 574,
   "metadata": {},
   "outputs": [
    {
     "name": "stdout",
     "output_type": "stream",
     "text": [
      "100 loops, best of 3: 13.6 ms per loop\n"
     ]
    }
   ],
   "source": [
    "%%timeit\n",
    "\n",
    "dijkstra(G,V,'1',targets)"
   ]
  }
 ],
 "metadata": {
  "kernelspec": {
   "display_name": "Python 2",
   "language": "python",
   "name": "python2"
  },
  "language_info": {
   "codemirror_mode": {
    "name": "ipython",
    "version": 2
   },
   "file_extension": ".py",
   "mimetype": "text/x-python",
   "name": "python",
   "nbconvert_exporter": "python",
   "pygments_lexer": "ipython2",
   "version": "2.7.12"
  }
 },
 "nbformat": 4,
 "nbformat_minor": 2
}
