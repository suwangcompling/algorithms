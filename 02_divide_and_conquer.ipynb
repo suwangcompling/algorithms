{
 "cells": [
  {
   "cell_type": "markdown",
   "metadata": {},
   "source": [
    "# Divide & Conquer\n",
    "\n",
    "* Maximum-Subarray Problem\n",
    "* Inverse-Counting Problem\n",
    "* Matrix Multiplication"
   ]
  },
  {
   "cell_type": "code",
   "execution_count": 1,
   "metadata": {
    "collapsed": true
   },
   "outputs": [],
   "source": [
    "import numpy as np"
   ]
  },
  {
   "cell_type": "markdown",
   "metadata": {},
   "source": [
    "## Maximum-Subarray Problem\n",
    "\n",
    "* Input: An array $A[\\text{low},\\ldots,\\text{high}]$.\n",
    "* Output: A subarray $A[i^*,\\ldots,j^*]$ of $A$ such that $$\\texttt{sum}(A[i^*,\\ldots,j^*]) = \\underset{i,j}{\\texttt{argmax}}\\ \\texttt{sum}(A[i,\\ldots,j])$$"
   ]
  },
  {
   "cell_type": "markdown",
   "metadata": {},
   "source": [
    "<img src=\"images_02/stock-prices.png\" alt=\"Drawing\" style=\"width: 600px;\" align=\"left\" />"
   ]
  },
  {
   "cell_type": "code",
   "execution_count": 9,
   "metadata": {
    "collapsed": true
   },
   "outputs": [],
   "source": [
    "A = [13,-3,-25,-20,-3,-16,-23,18,20,-7,12,-5,-22,15,-4,7]"
   ]
  },
  {
   "cell_type": "markdown",
   "metadata": {},
   "source": [
    "### Brute Force\n",
    "\n",
    "* Procedure:\n",
    "    * For each index $k$ from $low$ to $high$, work to the right, take and record sum at each step;\n",
    "    * Find the max of the sums.\n",
    "* Complexity: $O(n^2)$"
   ]
  },
  {
   "cell_type": "code",
   "execution_count": 33,
   "metadata": {
    "collapsed": true
   },
   "outputs": [],
   "source": [
    "def maxsub_brute(arr):\n",
    "    len_arr = len(arr)\n",
    "    l, r, subsum = 0,0,-np.inf\n",
    "    for i in range(len_arr):\n",
    "        for j in range(i+1,len_arr+1):\n",
    "            cur_subsum = sum(arr[i:j])\n",
    "            if cur_subsum>subsum:\n",
    "                l,r,subsum = i,j,cur_subsum\n",
    "    print 'left:',l,'| right:',r,'| subarray:',arr[l:r]\n",
    "    print 'subsum:',subsum"
   ]
  },
  {
   "cell_type": "code",
   "execution_count": 34,
   "metadata": {},
   "outputs": [
    {
     "name": "stdout",
     "output_type": "stream",
     "text": [
      "left: 7 | right: 11 | subarray: [18, 20, -7, 12]\n",
      "subsum: 43\n"
     ]
    }
   ],
   "source": [
    "maxsub_brute(A)"
   ]
  },
  {
   "cell_type": "markdown",
   "metadata": {},
   "source": [
    "### DC Method\n",
    "\n",
    "* Procedure:\n",
    "    * Break the array by midpoint, and find max-subarray for each subarray;\n",
    "    * For each subproblem, find the max-subarray out of (i) left array, (ii) right array, (iii) cross array.\n",
    "* Complexity: $O(nlogn)$"
   ]
  },
  {
   "cell_type": "markdown",
   "metadata": {},
   "source": [
    "**Subfunc: Find max cross-subarray**\n",
    "\n",
    "<img src=\"images_02/find-max-crossing-subarray.png\" alt=\"Drawing\" style=\"width: 400px;\" align=\"left\" />\n",
    "\n",
    "**Main/Recfunc: Find max subarray**\n",
    "\n",
    "<img src=\"images_02/find-maximum-subarray.png\" alt=\"Drawing\" style=\"width: 500px;\" align=\"left\" />"
   ]
  },
  {
   "cell_type": "code",
   "execution_count": 74,
   "metadata": {
    "collapsed": true
   },
   "outputs": [],
   "source": [
    "def find_max_cross_subarray(arr, l, m, r):\n",
    "    l_sum = -np.inf\n",
    "    max_l,subsum = 0,0\n",
    "    for i in range(m,l-1,-1):\n",
    "        subsum = subsum + arr[i]\n",
    "        if subsum>l_sum:\n",
    "            l_sum = subsum\n",
    "            max_l = i\n",
    "    r_sum = -np.inf\n",
    "    max_r,subsum = 0,0\n",
    "    for j in range(m+1,r):\n",
    "        subsum = subsum + arr[j]\n",
    "        if subsum>r_sum:\n",
    "            r_sum = subsum\n",
    "            max_r = j+1 # indicating the right-bound r, which python doesn't account for in sum(arr[l:r]).\n",
    "    return max_l, max_r, l_sum+r_sum\n",
    "\n",
    "def find_max_subarray(arr, l, r):\n",
    "    if l==r:\n",
    "        return l, r, arr[l-1]\n",
    "    mid = (l+r)/2\n",
    "    ll,lr,l_sum = find_max_subarray(arr, l, mid)\n",
    "    rl,rr,r_sum = find_max_subarray(arr, mid+1, r)\n",
    "    cl,cr,c_sum = find_max_cross_subarray(arr, l, mid, r)\n",
    "    if l_sum>=r_sum and l_sum>=c_sum:\n",
    "        return ll, lr, l_sum\n",
    "    elif r_sum>=l_sum and r_sum>=c_sum:\n",
    "        return rl, rr, r_sum\n",
    "    else:\n",
    "        return cl, cr, c_sum"
   ]
  },
  {
   "cell_type": "code",
   "execution_count": 75,
   "metadata": {},
   "outputs": [
    {
     "name": "stdout",
     "output_type": "stream",
     "text": [
      "left: 7 | right: 11 | subarray: [18, 20, -7, 12]\n",
      "subsum: 43\n"
     ]
    }
   ],
   "source": [
    "l, r, subsum = find_max_subarray(A, 0, len(A))\n",
    "print 'left:',l,'| right:',r,'| subarray:',A[l:r]\n",
    "print 'subsum:',subsum"
   ]
  },
  {
   "cell_type": "markdown",
   "metadata": {},
   "source": [
    "## Inverse-Counting Problem\n",
    "\n",
    "* Input: An array $A$\n",
    "* Output: Count of pairs $(i,j)$ where $A[i]>A[j]$ (i.e. inverses)"
   ]
  },
  {
   "cell_type": "markdown",
   "metadata": {},
   "source": [
    "<img src=\"images_02/inverse-counting.png\" alt=\"Drawing\" style=\"width: 500px;\" align=\"left\" />"
   ]
  },
  {
   "cell_type": "code",
   "execution_count": 193,
   "metadata": {
    "collapsed": true
   },
   "outputs": [],
   "source": [
    "A = [1,3,5,2,4,6]\n",
    "B = [6,5,4,3,2,1]"
   ]
  },
  {
   "cell_type": "markdown",
   "metadata": {},
   "source": [
    "### Brute Force\n",
    "\n",
    "* Procedure:\n",
    "    * Iterate over all the possible pairs (i.e. combinations of $i,j$) and count inverses accumulatively.\n",
    "* Complexity: $O(n^2)$ (for $A,\\texttt{len}(A)=n$, there are $\\binom{n}{2} = \\frac{n(n-1)}{2}$ pairs)"
   ]
  },
  {
   "cell_type": "code",
   "execution_count": 82,
   "metadata": {
    "collapsed": true
   },
   "outputs": [],
   "source": [
    "def invcount_brute(arr):\n",
    "    len_arr = len(arr)\n",
    "    inv_count = 0\n",
    "    inv_pairs = []\n",
    "    for i in range(len_arr-1):\n",
    "        for j in range(i+1,len_arr):\n",
    "            if arr[i]>arr[j]:\n",
    "                inv_count += 1\n",
    "                inv_pairs.append((arr[i],arr[j]))\n",
    "    return inv_count, inv_pairs"
   ]
  },
  {
   "cell_type": "code",
   "execution_count": 194,
   "metadata": {},
   "outputs": [
    {
     "name": "stdout",
     "output_type": "stream",
     "text": [
      "(3, [(3, 2), (5, 2), (5, 4)])\n",
      "(15, [(6, 5), (6, 4), (6, 3), (6, 2), (6, 1), (5, 4), (5, 3), (5, 2), (5, 1), (4, 3), (4, 2), (4, 1), (3, 2), (3, 1), (2, 1)])\n"
     ]
    }
   ],
   "source": [
    "print invcount_brute(A)\n",
    "print invcount_brute(B)"
   ]
  },
  {
   "cell_type": "markdown",
   "metadata": {},
   "source": [
    "### DC Method\n",
    "\n",
    "* Procedure:\n",
    "    * Piggy-back merge sort: count invs in left/right subarray, count cross-invs;\n",
    "    * Combine results.\n",
    "* Complexity: $O(nlogn)$"
   ]
  },
  {
   "cell_type": "code",
   "execution_count": null,
   "metadata": {
    "collapsed": true
   },
   "outputs": [],
   "source": [
    "\"\"\"\n",
    "Subfunc: count cross-inverses\n",
    "\n",
    "IN: arr1, arr2\n",
    "i, j, inv_count = 0, 0, 0\n",
    "while i,j < len(arr1), len(arr2):\n",
    "    if arr1[i]<=arr2[j]:\n",
    "        i += 1\n",
    "    else:\n",
    "        inv_count = inv_count + len(arr1)-i # i.e. there are len(arr1)-i items in arr1 that are > arr2[j]\n",
    "        j += 1\n",
    "OUT: inv_count\n",
    "\n",
    "Main/Recfunc: count all inverses\n",
    "\n",
    "IN: arr\n",
    "inv_count = 0\n",
    "if len(arr)>1:\n",
    "    mid = len(arr)/2\n",
    "    arr1, arr2 = split(arr, mid)\n",
    "    l_inv_count = invcount(arr1)\n",
    "    r_inv_count = invcount(arr2)\n",
    "    c_inv_count = cross_invcount(arr1, arr2)\n",
    "    inv_count = l_inv_count+r_inv_count+c_inv_count\n",
    "OUT: inv_count\n",
    "\"\"\""
   ]
  },
  {
   "cell_type": "code",
   "execution_count": 197,
   "metadata": {
    "collapsed": true
   },
   "outputs": [],
   "source": [
    "def merge_invcount(arr1, arr2):\n",
    "    len_arr1, len_arr2 = len(arr1), len(arr2)\n",
    "    i,j,inv_count = 0,0,0\n",
    "    arr = []\n",
    "    while i<len_arr1 and j<len_arr2:\n",
    "        if arr1[i]<=arr2[j]:\n",
    "            arr.append(arr1[i])\n",
    "            i += 1\n",
    "        else:\n",
    "            arr.append(arr2[j])\n",
    "            inv_count += len_arr1-i\n",
    "            j += 1\n",
    "    if i>=len_arr1:\n",
    "        return inv_count, arr + arr2[j:]\n",
    "    return inv_count, arr + arr1[i:]\n",
    "\n",
    "def invcount(arr):\n",
    "    len_arr = len(arr)\n",
    "    if len_arr>1:\n",
    "        mid = len_arr//2\n",
    "        arr1, arr2 = arr[:mid], arr[mid:]\n",
    "        l_inv_count, arr1 = invcount(arr1) # count inverses in left arr\n",
    "        r_inv_count, arr2 = invcount(arr2) # count inverses in right arr\n",
    "        c_inv_count, arr = merge_invcount(arr1, arr2) # count cross-inverses\n",
    "        return l_inv_count+r_inv_count+c_inv_count, arr\n",
    "    return 0, arr"
   ]
  },
  {
   "cell_type": "code",
   "execution_count": 199,
   "metadata": {},
   "outputs": [
    {
     "name": "stdout",
     "output_type": "stream",
     "text": [
      "(3, [1, 2, 3, 4, 5, 6])\n",
      "(15, [1, 2, 3, 4, 5, 6])\n"
     ]
    }
   ],
   "source": [
    "print invcount(A)\n",
    "print invcount(B)"
   ]
  },
  {
   "cell_type": "markdown",
   "metadata": {
    "collapsed": true
   },
   "source": [
    "## More on Quick Sort\n",
    "\n",
    "* Counting #comparisons (the dominator in running complexity) with various implementations."
   ]
  },
  {
   "cell_type": "code",
   "execution_count": 93,
   "metadata": {
    "collapsed": true
   },
   "outputs": [],
   "source": [
    "array_path = '/home/jacobsuwang/Documents/CS TRAINING/ALGORITHMS/DATA/QuickSortArray.txt'\n",
    "\n",
    "def get_array():\n",
    "    arr = []\n",
    "    with open(array_path,'r') as source:\n",
    "        for line in source:\n",
    "            arr.append(int(line))\n",
    "    return arr"
   ]
  },
  {
   "cell_type": "markdown",
   "metadata": {
    "collapsed": true
   },
   "source": [
    "### First Elem as Pivot"
   ]
  },
  {
   "cell_type": "code",
   "execution_count": 294,
   "metadata": {},
   "outputs": [
    {
     "name": "stdout",
     "output_type": "stream",
     "text": [
      "162085\n"
     ]
    }
   ],
   "source": [
    "count = 0\n",
    "\n",
    "def partition_first(arr, l, r): \n",
    "    # l, r: left, right indices.\n",
    "    piv = arr[l]\n",
    "    i = l+1\n",
    "    for j in range(l+1,r):\n",
    "        if arr[j] < piv:\n",
    "            arr[i],arr[j] = arr[j],arr[i]\n",
    "            i += 1\n",
    "    arr[l],arr[i-1] = arr[i-1],arr[l]\n",
    "    return i-1\n",
    "\n",
    "def quicksort_first(arr, l, r):\n",
    "    global count\n",
    "    if l<r:\n",
    "        piv_id = partition_first(arr, l, r)\n",
    "        count += r-l-1\n",
    "        quicksort_first(arr, l, piv_id)\n",
    "        quicksort_first(arr, piv_id+1, r)    \n",
    "        \n",
    "arr = get_array()\n",
    "quicksort_first(arr, 0, len(arr))\n",
    "print count"
   ]
  },
  {
   "cell_type": "markdown",
   "metadata": {},
   "source": [
    "### Last Elem as Pivot"
   ]
  },
  {
   "cell_type": "code",
   "execution_count": 302,
   "metadata": {},
   "outputs": [
    {
     "name": "stdout",
     "output_type": "stream",
     "text": [
      "164123\n"
     ]
    }
   ],
   "source": [
    "count = 0\n",
    "\n",
    "def partition_last(arr, l, r): \n",
    "    arr[l],arr[r-1] = arr[r-1],arr[l]\n",
    "    piv = arr[l]\n",
    "    i = l+1\n",
    "    for j in range(l+1,r): \n",
    "        if arr[j] < piv:\n",
    "            arr[i],arr[j] = arr[j],arr[i]\n",
    "            i += 1\n",
    "    arr[l],arr[i-1] = arr[i-1],arr[l]\n",
    "    return i-1\n",
    "\n",
    "def quicksort_last(arr, l, r):\n",
    "    global count\n",
    "    if l<r:\n",
    "        piv_id = partition_last(arr, l, r)\n",
    "        count += r-l-1\n",
    "        quicksort_last(arr, l, piv_id)\n",
    "        quicksort_last(arr, piv_id+1, r)\n",
    "        \n",
    "arr = get_array()\n",
    "quicksort_last(arr, 0, len(arr))\n",
    "print count"
   ]
  },
  {
   "cell_type": "markdown",
   "metadata": {},
   "source": [
    "### Median of {1st, Median, Last} Elem as Pivot"
   ]
  },
  {
   "cell_type": "code",
   "execution_count": 317,
   "metadata": {
    "collapsed": true
   },
   "outputs": [],
   "source": [
    "def partition_3median(arr, l, r):\n",
    "    sublen = r-l\n",
    "    m = l+sublen/2-1 if sublen%2==0 else l+sublen/2\n",
    "    if arr[l]<arr[m]<arr[r-1] or arr[r-1]<arr[m]<arr[l]:\n",
    "        arr[l],arr[m] = arr[m],arr[l]\n",
    "    elif arr[m]<arr[r-1]<arr[l] or arr[l]<arr[r-1]<arr[m]:\n",
    "        arr[l],arr[r-1] = arr[r-1],arr[l]\n",
    "    else: pass\n",
    "    piv = arr[l]\n",
    "    i = l+1\n",
    "    for j in range(l+1,r): \n",
    "        if arr[j] < piv:\n",
    "            arr[i],arr[j] = arr[j],arr[i]\n",
    "            i += 1\n",
    "    arr[l],arr[i-1] = arr[i-1],arr[l]\n",
    "    return i-1\n",
    "\n",
    "def quicksort_3median(arr, l, r):\n",
    "    count = 0\n",
    "    if l<r:\n",
    "        piv_id = partition_3median(arr, l, r)\n",
    "        count += r-l-1\n",
    "        count += quicksort_3median(arr, l, piv_id)\n",
    "        count += quicksort_3median(arr, piv_id+1, r)    \n",
    "    return count\n",
    "\n",
    "arr = get_array()\n",
    "print quicksort_3median(arr, 0, len(arr))"
   ]
  }
 ],
 "metadata": {
  "kernelspec": {
   "display_name": "Python 2",
   "language": "python",
   "name": "python2"
  },
  "language_info": {
   "codemirror_mode": {
    "name": "ipython",
    "version": 2
   },
   "file_extension": ".py",
   "mimetype": "text/x-python",
   "name": "python",
   "nbconvert_exporter": "python",
   "pygments_lexer": "ipython2",
   "version": "2.7.12"
  }
 },
 "nbformat": 4,
 "nbformat_minor": 2
}
