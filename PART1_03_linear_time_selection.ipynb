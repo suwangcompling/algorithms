{
 "cells": [
  {
   "cell_type": "markdown",
   "metadata": {},
   "source": [
    "# Linear-Time Selection\n",
    "\n",
    "* Finding Max/Min"
   ]
  },
  {
   "cell_type": "code",
   "execution_count": 2,
   "metadata": {
    "collapsed": true
   },
   "outputs": [],
   "source": [
    "import random\n",
    "import numpy as np"
   ]
  },
  {
   "cell_type": "markdown",
   "metadata": {},
   "source": [
    "## Finding Maximum and Minimum\n",
    "\n",
    "* Brute force: $2n-2 = O(n)$ (i.e. 2 comparisons per element)\n",
    "* Pair-per-time: $3(n/2) = O(n)$ (i.e. 3 comparisons per pair)"
   ]
  },
  {
   "cell_type": "code",
   "execution_count": 3,
   "metadata": {
    "collapsed": true
   },
   "outputs": [],
   "source": [
    "arr = range(10000)\n",
    "random.shuffle(arr)"
   ]
  },
  {
   "cell_type": "markdown",
   "metadata": {},
   "source": [
    "### Brute Force"
   ]
  },
  {
   "cell_type": "code",
   "execution_count": 26,
   "metadata": {
    "collapsed": true
   },
   "outputs": [],
   "source": [
    "def maxmin_brute(arr):\n",
    "    maximum, minimum = arr[0], arr[0]\n",
    "    for elem in arr:\n",
    "        if elem > maximum:\n",
    "            maximum = elem\n",
    "        if elem < minimum:\n",
    "            minimum = elem\n",
    "    return maximum, minimum"
   ]
  },
  {
   "cell_type": "code",
   "execution_count": 27,
   "metadata": {},
   "outputs": [
    {
     "name": "stdout",
     "output_type": "stream",
     "text": [
      "The slowest run took 16.66 times longer than the fastest. This could mean that an intermediate result is being cached.\n",
      "1000 loops, best of 3: 222 µs per loop\n"
     ]
    }
   ],
   "source": [
    "%%timeit\n",
    "\n",
    "maxmin_brute(arr)"
   ]
  },
  {
   "cell_type": "code",
   "execution_count": 16,
   "metadata": {},
   "outputs": [
    {
     "name": "stdout",
     "output_type": "stream",
     "text": [
      "max: 9999.000000 | min: 0.000000\n"
     ]
    }
   ],
   "source": [
    "print 'max: %6f | min: %6f' % maxmin_brute(arr)"
   ]
  },
  {
   "cell_type": "markdown",
   "metadata": {},
   "source": [
    "### Pair-per-time"
   ]
  },
  {
   "cell_type": "code",
   "execution_count": 23,
   "metadata": {
    "collapsed": true
   },
   "outputs": [],
   "source": [
    "def maxmin_pair(arr, arrlen, maximum, minimum):\n",
    "    for i in range(0, arrlen, 2):\n",
    "        a,b = arr[i],arr[i+1]\n",
    "        if a<b:\n",
    "            if a<minimum: minimum = a\n",
    "            if b>maximum: maximum = b\n",
    "        else:\n",
    "            if b<minimum: minimum = b\n",
    "            if a>maximum: maximum = a\n",
    "    return maximum, minimum        \n",
    "\n",
    "def call_maxmin_pair(arr):\n",
    "    arrlen = len(arr)\n",
    "    if arrlen%2!=0:\n",
    "        return maxmin_pair(arr[1:], arrlen-1, arr[0], arr[0])\n",
    "    return maxmin_pair(arr[2:], arrlen-2, arr[0], arr[1]) \\\n",
    "            if arr[0]>arr[1] else maxmin_pair(arr[2:], arrlen-2, arr[1], arr[0]) "
   ]
  },
  {
   "cell_type": "code",
   "execution_count": 28,
   "metadata": {},
   "outputs": [
    {
     "name": "stdout",
     "output_type": "stream",
     "text": [
      "1000 loops, best of 3: 346 µs per loop\n"
     ]
    }
   ],
   "source": [
    "%%timeit\n",
    "\n",
    "call_maxmin_pair(arr)"
   ]
  },
  {
   "cell_type": "code",
   "execution_count": 29,
   "metadata": {},
   "outputs": [
    {
     "name": "stdout",
     "output_type": "stream",
     "text": [
      "max: 9999.000000 | min: 0.000000\n"
     ]
    }
   ],
   "source": [
    "print 'max: %6f | min: %6f' % call_maxmin_pair(arr)"
   ]
  },
  {
   "cell_type": "markdown",
   "metadata": {},
   "source": [
    "## Randomized Lin-Select (avg. linear time)\n",
    "\n",
    "* Sorting solution: sort with quicksort, e.g., then return the ith element.\n",
    "* Randomized select."
   ]
  },
  {
   "cell_type": "code",
   "execution_count": 110,
   "metadata": {
    "collapsed": true
   },
   "outputs": [],
   "source": [
    "def gen_arr(n):\n",
    "    arr = range(0,2*n,2)\n",
    "    random.shuffle(arr)\n",
    "    return arr"
   ]
  },
  {
   "cell_type": "markdown",
   "metadata": {},
   "source": [
    "### Select with Randomized QuickSort\n",
    "\n",
    "* Procedure:\n",
    "    * Sort array with QuickSort;\n",
    "    * Return the $i$th element.\n",
    "* Complexity: $O(nlogn)$"
   ]
  },
  {
   "cell_type": "code",
   "execution_count": 153,
   "metadata": {
    "collapsed": true
   },
   "outputs": [],
   "source": [
    "def partition(arr, l, r):\n",
    "    rand_id = random.choice(range(l,r))\n",
    "    arr[l],arr[rand_id] = arr[rand_id],arr[l]\n",
    "    piv = arr[l]\n",
    "    i = l+1\n",
    "    for j in range(l+1,r): \n",
    "        if arr[j] < piv:\n",
    "            arr[i],arr[j] = arr[j],arr[i]\n",
    "            i += 1\n",
    "    arr[l],arr[i-1] = arr[i-1],arr[l]\n",
    "    return i-1\n",
    "\n",
    "def quicksort(arr, l, r):\n",
    "    if l<r:\n",
    "        piv_id = partition(arr, l, r)\n",
    "        quicksort(arr, l, piv_id)\n",
    "        quicksort(arr, piv_id+1, r)\n",
    "        \n",
    "def quicksort_select(arr, i):\n",
    "    quicksort(arr, 0, len(arr))\n",
    "    return arr[i-1] if i-1>=0 else 0"
   ]
  },
  {
   "cell_type": "code",
   "execution_count": 154,
   "metadata": {},
   "outputs": [
    {
     "name": "stdout",
     "output_type": "stream",
     "text": [
      "1000 loops, best of 3: 1.62 ms per loop\n"
     ]
    }
   ],
   "source": [
    "%%timeit\n",
    "\n",
    "quicksort_select(gen_arr(1000), 125)"
   ]
  },
  {
   "cell_type": "markdown",
   "metadata": {},
   "source": [
    "### Randomized Lin-Select\n",
    "\n",
    "* Procedure:\n",
    "    * Partition as in Quicksort;\n",
    "    * Operate on the left subarray if $i<piv$, right subarray if $i>piv$, return the pivot if $i=piv$ (i.e. the pivot is the $i$th smallest element).\n",
    "* Complexity: $O(n)$ on average."
   ]
  },
  {
   "cell_type": "code",
   "execution_count": 124,
   "metadata": {
    "collapsed": true
   },
   "outputs": [],
   "source": [
    "def partition(arr, l, r):\n",
    "    rand_id = random.choice(range(l,r))\n",
    "    arr[l],arr[rand_id] = arr[rand_id],arr[l]\n",
    "    piv = arr[l]\n",
    "    i = l+1\n",
    "    for j in range(l+1,r): \n",
    "        if arr[j] < piv:\n",
    "            arr[i],arr[j] = arr[j],arr[i]\n",
    "            i += 1\n",
    "    arr[l],arr[i-1] = arr[i-1],arr[l]\n",
    "    return i-1\n",
    "\n",
    "def rand_linselect(arr, l, r, i):\n",
    "    if l==r:\n",
    "        return arr[l]\n",
    "    piv = partition(arr, l, r)\n",
    "    k = piv - l + 1 # k: #elems in the subarray arr[l..piv]\n",
    "    if i==k:\n",
    "        return arr[piv]\n",
    "    elif i<k:\n",
    "        return rand_linselect(arr, l, piv, i)\n",
    "    else:\n",
    "        return rand_linselect(arr, piv+1, r, i-k)"
   ]
  },
  {
   "cell_type": "code",
   "execution_count": 162,
   "metadata": {},
   "outputs": [
    {
     "name": "stdout",
     "output_type": "stream",
     "text": [
      "The slowest run took 7.51 times longer than the fastest. This could mean that an intermediate result is being cached.\n",
      "1000 loops, best of 3: 303 µs per loop\n"
     ]
    }
   ],
   "source": [
    "%%timeit\n",
    "\n",
    "rand_linselect(gen_arr(1000), 0, 1000, 125)"
   ]
  },
  {
   "cell_type": "code",
   "execution_count": null,
   "metadata": {
    "collapsed": true
   },
   "outputs": [],
   "source": []
  },
  {
   "cell_type": "code",
   "execution_count": null,
   "metadata": {
    "collapsed": true
   },
   "outputs": [],
   "source": []
  },
  {
   "cell_type": "code",
   "execution_count": null,
   "metadata": {
    "collapsed": true
   },
   "outputs": [],
   "source": []
  },
  {
   "cell_type": "code",
   "execution_count": null,
   "metadata": {
    "collapsed": true
   },
   "outputs": [],
   "source": []
  },
  {
   "cell_type": "code",
   "execution_count": null,
   "metadata": {
    "collapsed": true
   },
   "outputs": [],
   "source": []
  },
  {
   "cell_type": "code",
   "execution_count": null,
   "metadata": {
    "collapsed": true
   },
   "outputs": [],
   "source": []
  },
  {
   "cell_type": "code",
   "execution_count": null,
   "metadata": {
    "collapsed": true
   },
   "outputs": [],
   "source": []
  },
  {
   "cell_type": "code",
   "execution_count": null,
   "metadata": {
    "collapsed": true
   },
   "outputs": [],
   "source": []
  },
  {
   "cell_type": "code",
   "execution_count": null,
   "metadata": {
    "collapsed": true
   },
   "outputs": [],
   "source": []
  },
  {
   "cell_type": "code",
   "execution_count": null,
   "metadata": {
    "collapsed": true
   },
   "outputs": [],
   "source": []
  },
  {
   "cell_type": "code",
   "execution_count": null,
   "metadata": {
    "collapsed": true
   },
   "outputs": [],
   "source": []
  },
  {
   "cell_type": "code",
   "execution_count": null,
   "metadata": {
    "collapsed": true
   },
   "outputs": [],
   "source": []
  },
  {
   "cell_type": "code",
   "execution_count": null,
   "metadata": {
    "collapsed": true
   },
   "outputs": [],
   "source": []
  },
  {
   "cell_type": "code",
   "execution_count": null,
   "metadata": {
    "collapsed": true
   },
   "outputs": [],
   "source": []
  },
  {
   "cell_type": "code",
   "execution_count": null,
   "metadata": {
    "collapsed": true
   },
   "outputs": [],
   "source": []
  },
  {
   "cell_type": "code",
   "execution_count": null,
   "metadata": {
    "collapsed": true
   },
   "outputs": [],
   "source": []
  }
 ],
 "metadata": {
  "kernelspec": {
   "display_name": "Python 2",
   "language": "python",
   "name": "python2"
  },
  "language_info": {
   "codemirror_mode": {
    "name": "ipython",
    "version": 2
   },
   "file_extension": ".py",
   "mimetype": "text/x-python",
   "name": "python",
   "nbconvert_exporter": "python",
   "pygments_lexer": "ipython2",
   "version": "2.7.12"
  }
 },
 "nbformat": 4,
 "nbformat_minor": 2
}
