{
 "cells": [
  {
   "cell_type": "markdown",
   "metadata": {},
   "source": [
    "# Data Structures\n",
    "\n",
    "* Heap\n",
    "* Median Maintenance with 2 Heaps\n",
    "* Binary Search Tree"
   ]
  },
  {
   "cell_type": "code",
   "execution_count": 1,
   "metadata": {
    "collapsed": true
   },
   "outputs": [],
   "source": [
    "import random\n",
    "import numpy as np"
   ]
  },
  {
   "cell_type": "markdown",
   "metadata": {},
   "source": [
    "### Heap\n",
    "\n"
   ]
  },
  {
   "cell_type": "code",
   "execution_count": 131,
   "metadata": {},
   "outputs": [],
   "source": [
    "class Heap:\n",
    "    \n",
    "    # Constructors\n",
    "    \n",
    "    def __init__(self, arr=[]):\n",
    "        self.__heap = arr\n",
    "        self.__len = len(arr)\n",
    "        self._to_heap()\n",
    "    \n",
    "    # Private Methods\n",
    "    \n",
    "    def _is_empty(self):\n",
    "        return True if self.__len==0 else False\n",
    "    \n",
    "    def _swap(self, i, j):\n",
    "        self.__heap[i],self.__heap[j] = \\\n",
    "        self.__heap[j],self.__heap[i]\n",
    "    \n",
    "    def _current(self, i):\n",
    "        if i<0 or i>=self.__len: return False\n",
    "        return self.__heap[i]\n",
    "    def _parent(self, i):\n",
    "        if i<=0 or i>=self.__len: return False\n",
    "        return self.__heap[(i-1)//2]\n",
    "    def _child(self, i, side):\n",
    "        if i<0: return False\n",
    "        assert side in {'l','r'}\n",
    "        i = 2*i+1 if side=='l' else 2*i+2\n",
    "        if i>=self.__len: return False\n",
    "        return self.__heap[i]\n",
    "    \n",
    "    def _bubble_up(self, i):\n",
    "        cur = self._current(i)\n",
    "        parent = self._parent(i)\n",
    "        j = (i-1)//2\n",
    "        if parent and parent>cur:\n",
    "            self._swap(i,j)\n",
    "            self._bubble_up(j)\n",
    "    def _bubble_down(self, i):\n",
    "        cur = self._current(i)\n",
    "        lc, rc = self._child(i,'l'),self._child(i,'r')\n",
    "        smallest = 2*i+1 if lc and lc<cur else i\n",
    "        smallest = 2*i+2 if rc and rc<self._current(smallest) else smallest\n",
    "        if smallest!=i:\n",
    "            self._swap(i,smallest)\n",
    "            self._bubble_down(smallest)\n",
    "            \n",
    "    def _to_heap(self):\n",
    "        for i in range(self.__len//2-1,-1,-1): # floor(len/2) to 0 in id\n",
    "            self._bubble_down(i) \n",
    "            \n",
    "    def _remove_last(self):\n",
    "        self.__heap.pop()\n",
    "        self.__len -= 1\n",
    "    \n",
    "    # Public Methods\n",
    "    \n",
    "    def get_heap(self):\n",
    "        return self.__heap\n",
    "    def get_len(self):\n",
    "        return self.__len\n",
    "    \n",
    "    def insert(self, val):\n",
    "        self.__heap.append(val)\n",
    "        self.__len += 1\n",
    "        self._bubble_up(self.__len-1)\n",
    "        \n",
    "    def delete(self, i):\n",
    "        if i<0 or i>=self.__len: raise Exception('Index Out of Range Error!')\n",
    "        if i==self.__len-1: self._remove_last()\n",
    "        else:\n",
    "            self._swap(i,self.__len-1)\n",
    "            self._remove_last()\n",
    "            self._bubble_down(i)\n",
    "    \n",
    "    def view_min(self):\n",
    "        return self._current(0)\n",
    "    \n",
    "    def extract_min(self):\n",
    "        minimum = self._current(0)\n",
    "        self.delete(0)\n",
    "        return minimum\n",
    "    \n",
    "    def sort(self):\n",
    "        ret = []\n",
    "        while self.__len>0:\n",
    "            ret.append(self.extract_min())\n",
    "        return ret"
   ]
  },
  {
   "cell_type": "code",
   "execution_count": 89,
   "metadata": {},
   "outputs": [
    {
     "name": "stdout",
     "output_type": "stream",
     "text": [
      "original: [14, 4, 9, 12, 7, 18, 17]\n",
      "init: [4, 7, 9, 12, 14, 18, 17]\n",
      "inserted 0: [0, 4, 9, 7, 14, 18, 17, 12]\n",
      "deleted 1th: [0, 7, 9, 12, 14, 18, 17]\n",
      "extract min: 0 , got: [7, 12, 9, 17, 14, 18]\n",
      "sorted: [7, 9, 12, 14, 17, 18]\n",
      "final state: []\n"
     ]
    }
   ],
   "source": [
    "l = [14, 4, 9, 12, 7, 18, 17]\n",
    "print 'original:', l\n",
    "hp = Heap(l)\n",
    "print 'init:', hp.get_heap()\n",
    "hp.insert(0)\n",
    "print 'inserted 0:', hp.get_heap()\n",
    "hp.delete(1)\n",
    "print 'deleted 1th:', hp.get_heap()\n",
    "print 'extract min:', hp.extract_min(), ', got:',\n",
    "print hp.get_heap()\n",
    "print 'sorted:', hp.sort()\n",
    "print 'final state:', hp.get_heap()"
   ]
  },
  {
   "cell_type": "markdown",
   "metadata": {},
   "source": [
    "### Median Maintenance"
   ]
  },
  {
   "cell_type": "code",
   "execution_count": 163,
   "metadata": {},
   "outputs": [],
   "source": [
    "class HeapRev:\n",
    "    \n",
    "    # Constructors\n",
    "    \n",
    "    def __init__(self, arr=[]):\n",
    "        self.__heap = arr\n",
    "        self.__len = len(arr)\n",
    "        self._to_heap()\n",
    "    \n",
    "    # Private Methods\n",
    "    \n",
    "    def _is_empty(self):\n",
    "        return True if self.__len==0 else False\n",
    "    \n",
    "    def _swap(self, i, j):\n",
    "        self.__heap[i],self.__heap[j] = \\\n",
    "        self.__heap[j],self.__heap[i]\n",
    "    \n",
    "    def _current(self, i):\n",
    "        if i<0 or i>=self.__len: return False\n",
    "        return self.__heap[i]\n",
    "    def _parent(self, i):\n",
    "        if i<=0 or i>=self.__len: return False\n",
    "        return self.__heap[(i-1)//2]\n",
    "    def _child(self, i, side):\n",
    "        if i<0: return False\n",
    "        assert side in {'l','r'}\n",
    "        i = 2*i+1 if side=='l' else 2*i+2\n",
    "        if i>=self.__len: return False\n",
    "        return self.__heap[i]\n",
    "    \n",
    "    def _bubble_up(self, i):\n",
    "        cur = self._current(i)\n",
    "        parent = self._parent(i)\n",
    "        j = (i-1)//2\n",
    "        if parent and parent<cur: # flip to <\n",
    "            self._swap(i,j)\n",
    "            self._bubble_up(j)\n",
    "    def _bubble_down(self, i):\n",
    "        cur = self._current(i)\n",
    "        lc, rc = self._child(i,'l'),self._child(i,'r')\n",
    "        largest = 2*i+1 if lc and lc>cur else i                          # smallest -> largest\n",
    "        largest = 2*i+2 if rc and rc>self._current(largest) else largest # ..\n",
    "        if largest!=i:\n",
    "            self._swap(i,largest)\n",
    "            self._bubble_down(largest)\n",
    "            \n",
    "    def _to_heap(self):\n",
    "        for i in range(self.__len//2-1,-1,-1): # floor(len/2) to 0 in id\n",
    "            self._bubble_down(i) \n",
    "            \n",
    "    def _remove_last(self):\n",
    "        self.__heap.pop()\n",
    "        self.__len -= 1\n",
    "    \n",
    "    # Public Methods\n",
    "    \n",
    "    def get_heap(self):\n",
    "        return self.__heap\n",
    "    def get_len(self):\n",
    "        return self.__len\n",
    "    \n",
    "    def insert(self, val):\n",
    "        self.__heap.append(val)\n",
    "        self.__len += 1\n",
    "        self._bubble_up(self.__len-1)\n",
    "        \n",
    "    def delete(self, i):\n",
    "        if i<0 or i>=self.__len: raise Exception('Index Out of Range Error!')\n",
    "        if i==self.__len-1: self._remove_last()\n",
    "        else:\n",
    "            self._swap(i,self.__len-1)\n",
    "            self._remove_last()\n",
    "            self._bubble_down(i)\n",
    "    \n",
    "    def view_max(self):\n",
    "        return self._current(0)\n",
    "    \n",
    "    def extract_max(self):\n",
    "        maximum = self._current(0)\n",
    "        self.delete(0)\n",
    "        return maximum\n",
    "    \n",
    "    def sort(self):\n",
    "        ret = []\n",
    "        while self.__len>0:\n",
    "            ret.append(self.extract_max())\n",
    "        return ret    "
   ]
  },
  {
   "cell_type": "code",
   "execution_count": 164,
   "metadata": {
    "scrolled": true
   },
   "outputs": [
    {
     "name": "stdout",
     "output_type": "stream",
     "text": [
      "original: [14, 4, 9, 12, 7, 18, 17]\n",
      "init: [18, 12, 17, 4, 7, 9, 14]\n",
      "inserted 0: [18, 12, 17, 4, 7, 9, 14, 0]\n",
      "deleted 1th: [18, 7, 17, 4, 0, 9, 14]\n",
      "extract min: 18 , got: [17, 7, 14, 4, 0, 9]\n",
      "sorted: [17, 14, 9, 7, 4, 0]\n",
      "final state: []\n"
     ]
    }
   ],
   "source": [
    "l = [14, 4, 9, 12, 7, 18, 17]\n",
    "print 'original:', l\n",
    "hp = HeapRev(l)\n",
    "print 'init:', hp.get_heap()\n",
    "hp.insert(0)\n",
    "print 'inserted 0:', hp.get_heap()\n",
    "hp.delete(1)\n",
    "print 'deleted 1th:', hp.get_heap()\n",
    "print 'extract min:', hp.extract_max(), ', got:',\n",
    "print hp.get_heap()\n",
    "print 'sorted:', hp.sort()\n",
    "print 'final state:', hp.get_heap()"
   ]
  },
  {
   "cell_type": "code",
   "execution_count": 183,
   "metadata": {},
   "outputs": [],
   "source": [
    "class MedianMaintenance:\n",
    "    \n",
    "    def __init__(self):\n",
    "        self.__min_heap = HeapRev([])\n",
    "        self.__max_heap = Heap([])\n",
    "        self.__cur_med = False\n",
    "    \n",
    "    def get_med(self):\n",
    "        return self.__cur_med\n",
    "    \n",
    "    def insert(self, i):\n",
    "        if not self.__cur_med:\n",
    "            self.__cur_med = i\n",
    "            self.__min_heap.insert(i)\n",
    "        else:\n",
    "            if i<self.__cur_med: self.__min_heap.insert(i)\n",
    "            else: self.__max_heap.insert(i)\n",
    "        min_size, max_size = self.__min_heap.get_len(), self.__max_heap.get_len()\n",
    "        if min_size==max_size or min_size-max_size==1: \n",
    "            self.__cur_med = self.__min_heap.view_max()\n",
    "            return\n",
    "        elif max_size-min_size==1:\n",
    "            self.__cur_med = self.__max_heap.view_min()\n",
    "            return\n",
    "        elif min_size>max_size:\n",
    "            self.__max_heap.insert(self.__min_heap.extract_max())\n",
    "            self.__cur_med = self.__min_heap.view_max()\n",
    "            return\n",
    "        else:\n",
    "            self.__min_heap.insert(self.__max_heap.extract_min())\n",
    "            self.__cur_med = self.__min_heap.view_max()\n",
    "            return\n",
    "    \n",
    "    def clear(self):\n",
    "        self.__min_heap = HeapRev([])\n",
    "        self.__max_heap = Heap([])\n",
    "        self.__cur_med = False \n",
    "    \n",
    "    def get_minheap(self):\n",
    "        return self.__min_heap.get_heap()\n",
    "    def get_maxheap(self):\n",
    "        return self.__max_heap.get_heap()"
   ]
  },
  {
   "cell_type": "code",
   "execution_count": 188,
   "metadata": {},
   "outputs": [
    {
     "name": "stdout",
     "output_type": "stream",
     "text": [
      "Gold test:\n",
      "\n",
      "med: 14 | arr: [14] | sorted: [14]\n",
      "med: 4 | arr: [14, 4] | sorted: [4, 14]\n",
      "med: 9 | arr: [14, 4, 9] | sorted: [4, 9, 14]\n",
      "med: 9 | arr: [14, 4, 9, 12] | sorted: [4, 9, 12, 14]\n",
      "med: 9 | arr: [14, 4, 9, 12, 7] | sorted: [4, 7, 9, 12, 14]\n",
      "med: 9 | arr: [14, 4, 9, 12, 7, 18] | sorted: [4, 7, 9, 12, 14, 18]\n",
      "med: 12 | arr: [14, 4, 9, 12, 7, 18, 17] | sorted: [4, 7, 9, 12, 14, 17, 18]\n",
      "\n",
      "Prog test:\n",
      "\n",
      "14 | [14] | []\n",
      "4 | [4] | [14]\n",
      "9 | [4] | [9, 14]\n",
      "9 | [9, 4] | [12, 14]\n",
      "9 | [9, 4, 7] | [12, 14]\n",
      "9 | [9, 4, 7] | [12, 14, 18]\n",
      "12 | [9, 4, 7] | [12, 14, 18, 17]\n"
     ]
    }
   ],
   "source": [
    "def median(l):\n",
    "    l = sorted(l)\n",
    "    return l[(len(l)-1)//2]\n",
    "\n",
    "l = [14, 4, 9, 12, 7, 18, 17]\n",
    "\n",
    "print 'Gold test:\\n'\n",
    "\n",
    "arr = []\n",
    "sum_med = 0\n",
    "for l_ in l:\n",
    "    arr.append(l_)\n",
    "    med = median(arr)\n",
    "    sum_med += med\n",
    "    print 'med:', med, '| arr:', arr, '| sorted:', sorted(arr) # '| sum_med:', sum_med \n",
    "print\n",
    "\n",
    "print 'Prog test:\\n' \n",
    "\n",
    "l = [14, 4, 9, 12, 7, 18, 17]\n",
    "med_main = MedianMaintenance()\n",
    "for l_ in l:\n",
    "    med_main.insert(l_)\n",
    "    print med_main.get_med(), '|', med_main.get_minheap(), '|', med_main.get_maxheap()"
   ]
  },
  {
   "cell_type": "code",
   "execution_count": 203,
   "metadata": {},
   "outputs": [
    {
     "name": "stdout",
     "output_type": "stream",
     "text": [
      "1213\n",
      "CPU times: user 84 ms, sys: 4 ms, total: 88 ms\n",
      "Wall time: 74.3 ms\n"
     ]
    }
   ],
   "source": [
    "%%time\n",
    "\n",
    "# Task: insert 10000 numbers one-by-one, and compute (med1 + med2 + ... + med10000) modulo 10000\n",
    " \n",
    "data_path = '/home/jacobsuwang/Documents/CS TRAINING/ALGORITHMS/DATA/Median.txt'\n",
    "\n",
    "med_sum = 0\n",
    "med_main = MedianMaintenance()\n",
    "with open(data_path, 'r') as source:\n",
    "    for line in source:\n",
    "        val = int(line)\n",
    "        med_main.insert(val)\n",
    "        med_sum += med_main.get_med()\n",
    "        \n",
    "print med_sum%10000"
   ]
  },
  {
   "cell_type": "markdown",
   "metadata": {},
   "source": [
    "### Binary Search Tree"
   ]
  },
  {
   "cell_type": "code",
   "execution_count": 271,
   "metadata": {},
   "outputs": [],
   "source": [
    "class Node:\n",
    "    \n",
    "    def __init__(self, key=None, parent=None, left=None, right=None, size=0):\n",
    "        self.key = key\n",
    "        self.parent = parent\n",
    "        self.left = left\n",
    "        self.right = right\n",
    "        self.size = size\n",
    "        \n",
    "\n",
    "class BST:\n",
    "    \n",
    "    def __init__(self):\n",
    "        self.root = None\n",
    "        \n",
    "    def insert(self, val):\n",
    "        z = Node(key=val)\n",
    "        y = None\n",
    "        x = self.root\n",
    "        while x!=None:\n",
    "            y = x\n",
    "            if z.key<x.key:\n",
    "                x = x.left\n",
    "            else:\n",
    "                x = x.right\n",
    "        z.parent = y\n",
    "        if y==None:\n",
    "            self.root = z\n",
    "        elif z.key<y.key:\n",
    "            y.left = z\n",
    "        else:\n",
    "            y.right = z\n",
    "            \n",
    "    def _transplant(self, u, v):\n",
    "        if u.parent==None:\n",
    "            self.root = v\n",
    "        elif u==u.parent.left:\n",
    "            u.parent.left = v\n",
    "        else:\n",
    "            u.parent.right = v\n",
    "        if v!=None:\n",
    "            v.parent = u.parent\n",
    "            \n",
    "    def delete(self, val):\n",
    "        z = self.search(self.root, val)\n",
    "        if z==None: return\n",
    "        if z.left==None:\n",
    "            self._transplant(z, z.right)\n",
    "        elif z.right==None:\n",
    "            self._transplant(z, z.left)\n",
    "        else:\n",
    "            y = self.minimum(z.right)\n",
    "            if y.parent!=z:\n",
    "                self._transplant(y, y.right)\n",
    "                y.right = z.right\n",
    "                y.right.parent = y\n",
    "            self._transplant(z, y)\n",
    "            y.left = z.left\n",
    "            y.left.parent = y\n",
    "            \n",
    "    def inorder_walk(self, x):\n",
    "        if x!=None:\n",
    "            self.inorder_walk(x.left)\n",
    "            print x.key,\n",
    "            self.inorder_walk(x.right)\n",
    "            \n",
    "    def search(self, x, k):\n",
    "        if x==None or k==x.key:\n",
    "            return x\n",
    "        if k<x.key:\n",
    "            return self.search(x.left, k)\n",
    "        return self.search(x.right, k)\n",
    "    \n",
    "    def minimum(self, x):\n",
    "        while x.left!=None:\n",
    "            x = x.left\n",
    "        return x\n",
    "    \n",
    "    def maximum(self, x):\n",
    "        while x.right!=None:\n",
    "            x = x.right\n",
    "        return x\n",
    "    \n",
    "    def predecessor(self, x):\n",
    "        if x.left!=None:\n",
    "            return self.maximum(x.left)\n",
    "        y = x.parent\n",
    "        while y!=None and x==y.left:\n",
    "            x = y\n",
    "            y = y.parent\n",
    "        return y\n",
    "    \n",
    "    def successor(self, x):\n",
    "        if x.right!=None:\n",
    "            return self.minimum(x.right)\n",
    "        y = x.parent\n",
    "        while y!=None and x==y.right:\n",
    "            x = y\n",
    "            y = y.parent\n",
    "        return y\n",
    "    "
   ]
  },
  {
   "cell_type": "code",
   "execution_count": 287,
   "metadata": {},
   "outputs": [],
   "source": [
    "l = [15,6,18,3,7,17,20,2,4,13,9]\n",
    "bst = BST()\n",
    "for l_ in l:\n",
    "    bst.insert(l_)"
   ]
  },
  {
   "cell_type": "code",
   "execution_count": 288,
   "metadata": {},
   "outputs": [
    {
     "name": "stdout",
     "output_type": "stream",
     "text": [
      "2 3 4 6 7 9 13 15 17 18 20\n"
     ]
    }
   ],
   "source": [
    "bst.inorder_walk(bst.root)"
   ]
  },
  {
   "cell_type": "code",
   "execution_count": 289,
   "metadata": {},
   "outputs": [
    {
     "name": "stdout",
     "output_type": "stream",
     "text": [
      "15\n",
      "None\n"
     ]
    }
   ],
   "source": [
    "print bst.search(bst.root, 15).key\n",
    "print bst.search(bst.root, 30)"
   ]
  },
  {
   "cell_type": "code",
   "execution_count": 290,
   "metadata": {},
   "outputs": [
    {
     "name": "stdout",
     "output_type": "stream",
     "text": [
      "2\n",
      "20\n"
     ]
    }
   ],
   "source": [
    "print bst.minimum(bst.root).key\n",
    "print bst.maximum(bst.root).key"
   ]
  },
  {
   "cell_type": "code",
   "execution_count": 291,
   "metadata": {},
   "outputs": [
    {
     "name": "stdout",
     "output_type": "stream",
     "text": [
      "None\n",
      "[15] -> 17\n",
      "[13] -> 15\n",
      "[9] -> 13\n"
     ]
    }
   ],
   "source": [
    "print bst.successor(bst.search(bst.root, 20))\n",
    "print '[15] ->', bst.successor(bst.search(bst.root, 15)).key\n",
    "print '[13] ->', bst.successor(bst.search(bst.root, 13)).key\n",
    "print '[9] ->', bst.successor(bst.search(bst.root, 9)).key"
   ]
  },
  {
   "cell_type": "code",
   "execution_count": 292,
   "metadata": {},
   "outputs": [
    {
     "name": "stdout",
     "output_type": "stream",
     "text": [
      "None\n",
      "[15] -> 13\n",
      "[13] -> 9\n",
      "[17] -> 15\n"
     ]
    }
   ],
   "source": [
    "print bst.successor(bst.search(bst.root, 20))\n",
    "print '[15] ->', bst.predecessor(bst.search(bst.root, 15)).key\n",
    "print '[13] ->', bst.predecessor(bst.search(bst.root, 13)).key\n",
    "print '[17] ->', bst.predecessor(bst.search(bst.root, 17)).key"
   ]
  },
  {
   "cell_type": "code",
   "execution_count": 293,
   "metadata": {},
   "outputs": [
    {
     "name": "stdout",
     "output_type": "stream",
     "text": [
      "2 3 4 6 7 9 13 15 17 18 20\n",
      "2 3 4 6 9 13 15 17 18 20\n",
      "2 3 4 6 9 13 17 18 20\n"
     ]
    }
   ],
   "source": [
    "bst.inorder_walk(bst.root)\n",
    "print\n",
    "bst.delete(7)\n",
    "bst.inorder_walk(bst.root)\n",
    "print\n",
    "bst.delete(15)\n",
    "bst.inorder_walk(bst.root)"
   ]
  }
 ],
 "metadata": {
  "kernelspec": {
   "display_name": "Python 2",
   "language": "python",
   "name": "python2"
  },
  "language_info": {
   "codemirror_mode": {
    "name": "ipython",
    "version": 2
   },
   "file_extension": ".py",
   "mimetype": "text/x-python",
   "name": "python",
   "nbconvert_exporter": "python",
   "pygments_lexer": "ipython2",
   "version": "2.7.12"
  }
 },
 "nbformat": 4,
 "nbformat_minor": 2
}
